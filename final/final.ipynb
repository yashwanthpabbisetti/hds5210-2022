{
 "cells": [
  {
   "cell_type": "markdown",
   "metadata": {},
   "source": [
    "# Final Project\n"
   ]
  },
  {
   "cell_type": "markdown",
   "metadata": {},
   "source": [
    "# Title: Mental Classification Treatment\n",
    "\n",
    "*Objective*\n",
    "\n",
    "The objective of this project is to create a classification model to to predict if mentaly ill person in United States and United Kingdm are treated.\n",
    "\n",
    "*What are the steps?*\n",
    "\n",
    "The following are the steps to undertake in order to reach the final goal of the project.\n",
    "\n",
    "1. Read data.\n",
    "\n",
    "2. Data explatory and cleaning.\n",
    "\n",
    "3. Split data into train and split.\n",
    "\n",
    "4. Train model.\n",
    "\n",
    "5. Evaluate model.\n",
    "\n",
    "6. Conclusion.\n",
    "\n",
    "We will need the following columns to predict :\n",
    "\n",
    "column_required = ['Age', 'Gender', 'Country','family_history','treatment']\n",
    "We will choose age from 5 years old since most people in US and UK start working as actresses and actors at the age of 7 years."
   ]
  },
  {
   "cell_type": "markdown",
   "metadata": {},
   "source": [
    "https://www.kaggle.com/datasets/osmi/mental-health-in-tech-survey"
   ]
  },
  {
   "cell_type": "code",
   "execution_count": 4,
   "metadata": {},
   "outputs": [],
   "source": [
    "import pandas as pd\n",
    "import matplotlib.pyplot as plt\n",
    "import seaborn as sns"
   ]
  },
  {
   "cell_type": "code",
   "execution_count": 5,
   "metadata": {},
   "outputs": [],
   "source": [
    "location = 'https://raw.githubusercontent.com/Mbicha/data_science/main/data/locatio1.csv'\n",
    "treatment = 'https://raw.githubusercontent.com/Mbicha/data_science/main/data/treatment.json'\n",
    "survey = './survey.csv'"
   ]
  },
  {
   "cell_type": "code",
   "execution_count": 6,
   "metadata": {},
   "outputs": [],
   "source": [
    "class MentalHealthTreatment:\n",
    "    \"\"\"Module to predict treatment of mental illness\"\"\"\n",
    "    \n",
    "    def data_to_use(self,data_source1,data_source2,data_source3):\n",
    "        \"\"\"\n",
    "        Parameters\n",
    "        ==========\n",
    "        data_source1: csv\n",
    "            This data is in csv form\n",
    "        data_source2: csv\n",
    "            This data is in csv form\n",
    "        data_source3: json\n",
    "            The raw data is in json form\n",
    "        ==========\n",
    "        Return\n",
    "        ==========\n",
    "        get three daframe at the end\n",
    "        \"\"\"\n",
    "        dataframe_1 = pd.read_csv(data_source1)\n",
    "        dataframe_2 = pd.read_csv(data_source2)\n",
    "        dataframe_3 = pd.read_json(data_source3)\n",
    "        return dataframe_1, dataframe_2, dataframe_3\n",
    "\n",
    "    def merge_all_datasets(self, dataframe1, dataframe2, dataframe3):\n",
    "        \"\"\"\n",
    "        Parameters\n",
    "        ==========\n",
    "        dataframe1: Dataframe\n",
    "            In form of dataframe\n",
    "        dataframe2: Dataframe\n",
    "            In form of dataframe\n",
    "        dataframe3: Dataframe\n",
    "            In form of dataframe\n",
    "        ==========\n",
    "        Return\n",
    "        ==========\n",
    "        Resulting dataframe of is merge of the 3\n",
    "        \"\"\"\n",
    "        mrg = pd.merge(left=dataframe1, right=dataframe2, on=['Timestamp', 'Timestamp'])\n",
    "        return pd.concat([mrg, dataframe3['treatment']], axis=1)\n",
    "\n",
    "    def get_uk_us_df(self, dataframe):\n",
    "        \"\"\"\n",
    "        Parameters\n",
    "        ==========\n",
    "        dataframe1: Dataframe\n",
    "            In form of dataframe\n",
    "        ==========\n",
    "        Return\n",
    "        ==========\n",
    "        Resulting dataframe\n",
    "        \"\"\"\n",
    "        return dataframe[\n",
    "            ((dataframe['Country'] == 'United States') | (dataframe['Country'] == 'United Kingdom')) & \n",
    "            (dataframe['Age'] > 5)]\n",
    "    \n",
    "    def check_missing_values(self, dataframe):\n",
    "        \"\"\"\n",
    "        Parameters\n",
    "        ==========\n",
    "        dataframe1: Dataframe\n",
    "            In form of dataframe\n",
    "        ==========\n",
    "        Return\n",
    "        ==========\n",
    "        dictionary consisting missing values greater than 0\n",
    "        \"\"\"\n",
    "        missing_dict = {}\n",
    "        for i in dataframe.columns:\n",
    "            missing = round(np.mean(dataframe[i].isna())*100)\n",
    "            if missing > 0:\n",
    "                missing_dict[i] = missing\n",
    "        return missing_dict\n",
    "\n",
    "    def remove_unwanted_cols(self, dataframe, cols_lst):\n",
    "        \"\"\"\n",
    "        Parameters\n",
    "        ==========\n",
    "        dataframe1: Dataframe\n",
    "            In form of dataframe\n",
    "        cols_lst: List\n",
    "            List of columns to drop from the dataframe\n",
    "        ==========\n",
    "        Return\n",
    "        ==========\n",
    "        Dataframe with dropped columns\n",
    "        \"\"\"\n",
    "        return dataframe.drop(cols_lst, axis=1)\n",
    "    \n",
    "    def fill_na(self, dataframe, col):\n",
    "        \"\"\"Fill na with mode since most of columns are categorical\"\"\"\n",
    "        return dataframe.fillna(dataframe[col].mode()[0])\n",
    "\n",
    "    def get_dummies_data(self, dataframe, col):\n",
    "        \"\"\"\n",
    "        Convert to dummy\n",
    "        ============\n",
    "        dataframe:\n",
    "            dataframe datatype\n",
    "        col:\n",
    "            column to convert to dummy\n",
    "        ============\n",
    "        Return  dataframe with dummy variable\n",
    "        \"\"\"\n",
    "        dataframe = pd.get_dummies(data=dataframe, columns = [col],drop_first = True)\n",
    "        return dataframe\n",
    "\n",
    "    def replace_values(self, dataframe, col, oldvalue, newvalue):\n",
    "        \"\"\"\n",
    "        Parameters\n",
    "        ==========\n",
    "        dataframe1: Dataframe\n",
    "            In form of dataframe\n",
    "        cols: col\n",
    "            Column from with values to replace\n",
    "        oldvalue: Any\n",
    "            Value of any datatype\n",
    "        newvalue: Any\n",
    "            Value of any datatype\n",
    "        ==========\n",
    "        Return\n",
    "        ==========\n",
    "        Dataframe with values changed\n",
    "        \"\"\"\n",
    "        dataframe[col].mask(dataframe[col] == oldvalue, newvalue, inplace=True)\n",
    "        return dataframe\n",
    "\n",
    "    def plot_bar(self, dataframe, x, y):\n",
    "        \"\"\"\n",
    "        Parameters\n",
    "        ==========\n",
    "        dataframe1: Dataframe\n",
    "            In form of dataframe\n",
    "        x: col\n",
    "            Column x\n",
    "        y: col\n",
    "            Column y\n",
    "        ==========\n",
    "        Return\n",
    "        ==========\n",
    "        Bar plot of passed values\n",
    "        \"\"\"\n",
    "        plt.figure(figsize=(10, 5))\n",
    "        plt.title(f\"Relationshibe between {x} and {y}\", weight='bold')\n",
    "        sns.barplot(data=dataframe, x=x, y=y)\n",
    "        plt.show()\n",
    "\n",
    "    def plot_count(self, dataframe, x):\n",
    "        \"\"\"\n",
    "        Parameters\n",
    "        ==========\n",
    "        dataframe1: Dataframe\n",
    "            In form of dataframe\n",
    "        x: col\n",
    "            Column x\n",
    "        ==========\n",
    "        Return\n",
    "        ==========\n",
    "        Count plot of passed values\n",
    "        \"\"\"\n",
    "        plt.figure(figsize=(10, 5))\n",
    "        plt.title(f\"Count {x}\", weight='bold')\n",
    "        sns.countplot(data=dataframe, x=x)\n",
    "        plt.show()\n",
    "\n",
    "    def create_model(self, dataframe, col):\n",
    "        \"\"\"\n",
    "        Parameters\n",
    "        ==========\n",
    "        dataframe1: Dataframe\n",
    "            In form of dataframe\n",
    "        col:\n",
    "            Column to either drop or select\n",
    "        ==========\n",
    "        Return\n",
    "        ==========\n",
    "        train and test\n",
    "        \"\"\"\n",
    "        X = dataframe.drop([col], axis=1)\n",
    "        y = dataframe[col]\n",
    "        X_train, X_test, y_train, y_test = train_test_split(X, y, test_size=0.2, random_state=100)\n",
    "        model = LogisticRegression(max_iter=2000)\n",
    "        model.fit(X_train, y_train)\n",
    "        y_pred = model.predict(X_test)\n",
    "        return y_test,y_pred\n",
    "\n",
    "    def model_accuracy(self, actual_y, y_pred):\n",
    "        \"\"\"\n",
    "        Parameters\n",
    "        ==========\n",
    "        actual_y: numpy arry\n",
    "\n",
    "        y_pred: numby array\n",
    "\n",
    "        ==========\n",
    "        Return\n",
    "        ==========\n",
    "        score: float\n",
    "            Float\n",
    "        \"\"\"\n",
    "        score = accuracy_score(actual_y, y_pred)\n",
    "        return f\"{round(score*100,2)}%\""
   ]
  },
  {
   "cell_type": "markdown",
   "metadata": {},
   "source": [
    "Create an object of class MentalHealthTreatmen"
   ]
  },
  {
   "cell_type": "code",
   "execution_count": 74,
   "metadata": {},
   "outputs": [
    {
     "data": {
      "text/plain": [
       "<__main__.MentalHealthTreatment at 0x7fdd7414b5f8>"
      ]
     },
     "metadata": {},
     "output_type": "display_data"
    }
   ],
   "source": [
    "mh = MentalHealthTreatment()"
   ]
  },
  {
   "cell_type": "markdown",
   "metadata": {},
   "source": [
    "Read data and store in 3 dataframes"
   ]
  },
  {
   "cell_type": "code",
   "execution_count": 8,
   "metadata": {},
   "outputs": [],
   "source": [
    "df, df2, df3 = mh.data_to_use(location, survey, treatment)"
   ]
  },
  {
   "cell_type": "markdown",
   "metadata": {},
   "source": [
    "Merge dataframes together and return a new large dataset"
   ]
  },
  {
   "cell_type": "code",
   "execution_count": 9,
   "metadata": {},
   "outputs": [],
   "source": [
    "mental_df = mh.merge_all_datasets(df, df2, df3)"
   ]
  },
  {
   "cell_type": "markdown",
   "metadata": {},
   "source": [
    "Select dataframe where a country is United State or United Kingdom"
   ]
  },
  {
   "cell_type": "code",
   "execution_count": 10,
   "metadata": {},
   "outputs": [],
   "source": [
    "mental_df = mh.get_uk_us_df(mental_df)"
   ]
  },
  {
   "cell_type": "code",
   "execution_count": 11,
   "metadata": {},
   "outputs": [
    {
     "data": {
      "text/html": [
       "<div>\n",
       "<style scoped>\n",
       "    .dataframe tbody tr th:only-of-type {\n",
       "        vertical-align: middle;\n",
       "    }\n",
       "\n",
       "    .dataframe tbody tr th {\n",
       "        vertical-align: top;\n",
       "    }\n",
       "\n",
       "    .dataframe thead th {\n",
       "        text-align: right;\n",
       "    }\n",
       "</style>\n",
       "<table border=\"1\" class=\"dataframe\">\n",
       "  <thead>\n",
       "    <tr style=\"text-align: right;\">\n",
       "      <th></th>\n",
       "      <th>Timestamp</th>\n",
       "      <th>Age</th>\n",
       "      <th>Gender</th>\n",
       "      <th>Country</th>\n",
       "      <th>state</th>\n",
       "      <th>self_employed</th>\n",
       "      <th>family_history</th>\n",
       "      <th>work_interfere</th>\n",
       "      <th>no_employees</th>\n",
       "      <th>remote_work</th>\n",
       "      <th>...</th>\n",
       "      <th>mental_health_interview</th>\n",
       "      <th>phys_health_interview</th>\n",
       "      <th>mental_vs_physical</th>\n",
       "      <th>obs_consequence</th>\n",
       "      <th>comments</th>\n",
       "      <th>Unnamed: 22</th>\n",
       "      <th>Unnamed: 23</th>\n",
       "      <th>Unnamed: 24</th>\n",
       "      <th>Unnamed: 25</th>\n",
       "      <th>treatment</th>\n",
       "    </tr>\n",
       "  </thead>\n",
       "  <tbody>\n",
       "    <tr>\n",
       "      <th>0</th>\n",
       "      <td>2014-08-27 11:29:31</td>\n",
       "      <td>37</td>\n",
       "      <td>Female</td>\n",
       "      <td>United States</td>\n",
       "      <td>IL</td>\n",
       "      <td>NaN</td>\n",
       "      <td>No</td>\n",
       "      <td>Often</td>\n",
       "      <td>6-25</td>\n",
       "      <td>No</td>\n",
       "      <td>...</td>\n",
       "      <td>No</td>\n",
       "      <td>Maybe</td>\n",
       "      <td>Yes</td>\n",
       "      <td>No</td>\n",
       "      <td>NaN</td>\n",
       "      <td>NaN</td>\n",
       "      <td>NaN</td>\n",
       "      <td>NaN</td>\n",
       "      <td>NaN</td>\n",
       "      <td>Yes</td>\n",
       "    </tr>\n",
       "    <tr>\n",
       "      <th>1</th>\n",
       "      <td>2014-08-27 11:29:37</td>\n",
       "      <td>44</td>\n",
       "      <td>Male</td>\n",
       "      <td>United States</td>\n",
       "      <td>IN</td>\n",
       "      <td>NaN</td>\n",
       "      <td>No</td>\n",
       "      <td>Rarely</td>\n",
       "      <td>More than 1000</td>\n",
       "      <td>No</td>\n",
       "      <td>...</td>\n",
       "      <td>No</td>\n",
       "      <td>No</td>\n",
       "      <td>Don't know</td>\n",
       "      <td>No</td>\n",
       "      <td>NaN</td>\n",
       "      <td>NaN</td>\n",
       "      <td>NaN</td>\n",
       "      <td>NaN</td>\n",
       "      <td>NaN</td>\n",
       "      <td>No</td>\n",
       "    </tr>\n",
       "    <tr>\n",
       "      <th>3</th>\n",
       "      <td>2014-08-27 11:29:46</td>\n",
       "      <td>31</td>\n",
       "      <td>Male</td>\n",
       "      <td>United Kingdom</td>\n",
       "      <td>NaN</td>\n",
       "      <td>NaN</td>\n",
       "      <td>Yes</td>\n",
       "      <td>Often</td>\n",
       "      <td>26-100</td>\n",
       "      <td>No</td>\n",
       "      <td>...</td>\n",
       "      <td>Maybe</td>\n",
       "      <td>Maybe</td>\n",
       "      <td>No</td>\n",
       "      <td>Yes</td>\n",
       "      <td>NaN</td>\n",
       "      <td>NaN</td>\n",
       "      <td>NaN</td>\n",
       "      <td>NaN</td>\n",
       "      <td>NaN</td>\n",
       "      <td>Yes</td>\n",
       "    </tr>\n",
       "  </tbody>\n",
       "</table>\n",
       "<p>3 rows × 31 columns</p>\n",
       "</div>"
      ],
      "text/plain": [
       "             Timestamp  Age  Gender         Country state self_employed  \\\n",
       "0  2014-08-27 11:29:31   37  Female   United States    IL           NaN   \n",
       "1  2014-08-27 11:29:37   44    Male   United States    IN           NaN   \n",
       "3  2014-08-27 11:29:46   31    Male  United Kingdom   NaN           NaN   \n",
       "\n",
       "  family_history work_interfere    no_employees remote_work  ...  \\\n",
       "0             No          Often            6-25          No  ...   \n",
       "1             No         Rarely  More than 1000          No  ...   \n",
       "3            Yes          Often          26-100          No  ...   \n",
       "\n",
       "  mental_health_interview phys_health_interview mental_vs_physical  \\\n",
       "0                      No                 Maybe                Yes   \n",
       "1                      No                    No         Don't know   \n",
       "3                   Maybe                 Maybe                 No   \n",
       "\n",
       "  obs_consequence comments Unnamed: 22 Unnamed: 23 Unnamed: 24 Unnamed: 25  \\\n",
       "0              No      NaN         NaN         NaN         NaN         NaN   \n",
       "1              No      NaN         NaN         NaN         NaN         NaN   \n",
       "3             Yes      NaN         NaN         NaN         NaN         NaN   \n",
       "\n",
       "  treatment  \n",
       "0       Yes  \n",
       "1        No  \n",
       "3       Yes  \n",
       "\n",
       "[3 rows x 31 columns]"
      ]
     },
     "execution_count": 11,
     "metadata": {},
     "output_type": "execute_result"
    }
   ],
   "source": [
    "mental_df.head(3)"
   ]
  },
  {
   "cell_type": "code",
   "execution_count": 12,
   "metadata": {},
   "outputs": [
    {
     "data": {
      "text/plain": [
       "{'state': 21.0,\n",
       " 'self_employed': 1.0,\n",
       " 'work_interfere': 20.0,\n",
       " 'comments': 87.0,\n",
       " 'Unnamed: 22': 100.0,\n",
       " 'Unnamed: 23': 100.0,\n",
       " 'Unnamed: 24': 100.0,\n",
       " 'Unnamed: 25': 100.0,\n",
       " 'treatment': 2.0}"
      ]
     },
     "execution_count": 12,
     "metadata": {},
     "output_type": "execute_result"
    }
   ],
   "source": [
    "mh.check_missing_values(mental_df)"
   ]
  },
  {
   "cell_type": "markdown",
   "metadata": {},
   "source": [
    "From the above, we only need need treatment columns, drop the following \n",
    "\n",
    "['state', 'self_employed', 'work_interfere', 'comments', 'Unnamed: 22', 'Unnamed: 23', 'Unnamed: 24', 'Unnamed: 25']"
   ]
  },
  {
   "cell_type": "markdown",
   "metadata": {},
   "source": [
    "Remove unwanted columns"
   ]
  },
  {
   "cell_type": "code",
   "execution_count": 13,
   "metadata": {},
   "outputs": [],
   "source": [
    "# column_required = ['Age', 'Gender', 'Country','State','family_history','treatment']\n",
    "column_to_remove = ['Timestamp', 'state','self_employed','work_interfere', 'no_employees', 'remote_work',\n",
    "       'tech_company', 'benefits', 'care_options', 'wellness_program',\n",
    "       'seek_help', 'anonymity', 'leave', 'mental_health_consequence',\n",
    "       'phys_health_consequence', 'coworkers', 'supervisor',\n",
    "       'mental_health_interview', 'phys_health_interview',\n",
    "       'mental_vs_physical', 'obs_consequence', 'comments', 'Unnamed: 22',\n",
    "       'Unnamed: 23', 'Unnamed: 24', 'Unnamed: 25']"
   ]
  },
  {
   "cell_type": "code",
   "execution_count": 14,
   "metadata": {},
   "outputs": [
    {
     "data": {
      "text/html": [
       "<div>\n",
       "<style scoped>\n",
       "    .dataframe tbody tr th:only-of-type {\n",
       "        vertical-align: middle;\n",
       "    }\n",
       "\n",
       "    .dataframe tbody tr th {\n",
       "        vertical-align: top;\n",
       "    }\n",
       "\n",
       "    .dataframe thead th {\n",
       "        text-align: right;\n",
       "    }\n",
       "</style>\n",
       "<table border=\"1\" class=\"dataframe\">\n",
       "  <thead>\n",
       "    <tr style=\"text-align: right;\">\n",
       "      <th></th>\n",
       "      <th>Age</th>\n",
       "      <th>Gender</th>\n",
       "      <th>Country</th>\n",
       "      <th>family_history</th>\n",
       "      <th>treatment</th>\n",
       "    </tr>\n",
       "  </thead>\n",
       "  <tbody>\n",
       "    <tr>\n",
       "      <th>0</th>\n",
       "      <td>37</td>\n",
       "      <td>Female</td>\n",
       "      <td>United States</td>\n",
       "      <td>No</td>\n",
       "      <td>Yes</td>\n",
       "    </tr>\n",
       "    <tr>\n",
       "      <th>1</th>\n",
       "      <td>44</td>\n",
       "      <td>Male</td>\n",
       "      <td>United States</td>\n",
       "      <td>No</td>\n",
       "      <td>No</td>\n",
       "    </tr>\n",
       "    <tr>\n",
       "      <th>3</th>\n",
       "      <td>31</td>\n",
       "      <td>Male</td>\n",
       "      <td>United Kingdom</td>\n",
       "      <td>Yes</td>\n",
       "      <td>Yes</td>\n",
       "    </tr>\n",
       "    <tr>\n",
       "      <th>4</th>\n",
       "      <td>31</td>\n",
       "      <td>Male</td>\n",
       "      <td>United States</td>\n",
       "      <td>No</td>\n",
       "      <td>No</td>\n",
       "    </tr>\n",
       "    <tr>\n",
       "      <th>5</th>\n",
       "      <td>33</td>\n",
       "      <td>Male</td>\n",
       "      <td>United States</td>\n",
       "      <td>Yes</td>\n",
       "      <td>No</td>\n",
       "    </tr>\n",
       "  </tbody>\n",
       "</table>\n",
       "</div>"
      ],
      "text/plain": [
       "   Age  Gender         Country family_history treatment\n",
       "0   37  Female   United States             No       Yes\n",
       "1   44    Male   United States             No        No\n",
       "3   31    Male  United Kingdom            Yes       Yes\n",
       "4   31    Male   United States             No        No\n",
       "5   33    Male   United States            Yes        No"
      ]
     },
     "execution_count": 14,
     "metadata": {},
     "output_type": "execute_result"
    }
   ],
   "source": [
    "mental_df = mh.remove_unwanted_cols(mental_df, column_to_remove)\n",
    "mental_df.head(5)"
   ]
  },
  {
   "cell_type": "code",
   "execution_count": 15,
   "metadata": {},
   "outputs": [
    {
     "data": {
      "text/plain": [
       "{'treatment': 2.0}"
      ]
     },
     "execution_count": 15,
     "metadata": {},
     "output_type": "execute_result"
    }
   ],
   "source": [
    "mh.check_missing_values(mental_df)"
   ]
  },
  {
   "cell_type": "markdown",
   "metadata": {},
   "source": [
    "Fill Missing Values\n",
    "\n",
    "For this we are going to fill all missing value with mode of the column. This is because most of missing value lie on categorical columns."
   ]
  },
  {
   "cell_type": "code",
   "execution_count": 16,
   "metadata": {},
   "outputs": [
    {
     "data": {
      "text/plain": [
       "{}"
      ]
     },
     "execution_count": 16,
     "metadata": {},
     "output_type": "execute_result"
    }
   ],
   "source": [
    "cleaned_mental_df = mh.fill_na(mental_df, 'treatment')\n",
    "mh.check_missing_values(cleaned_mental_df)"
   ]
  },
  {
   "cell_type": "code",
   "execution_count": 17,
   "metadata": {},
   "outputs": [
    {
     "data": {
      "text/html": [
       "<div>\n",
       "<style scoped>\n",
       "    .dataframe tbody tr th:only-of-type {\n",
       "        vertical-align: middle;\n",
       "    }\n",
       "\n",
       "    .dataframe tbody tr th {\n",
       "        vertical-align: top;\n",
       "    }\n",
       "\n",
       "    .dataframe thead th {\n",
       "        text-align: right;\n",
       "    }\n",
       "</style>\n",
       "<table border=\"1\" class=\"dataframe\">\n",
       "  <thead>\n",
       "    <tr style=\"text-align: right;\">\n",
       "      <th></th>\n",
       "      <th>Age</th>\n",
       "      <th>Gender</th>\n",
       "      <th>Country</th>\n",
       "      <th>family_history</th>\n",
       "      <th>treatment</th>\n",
       "    </tr>\n",
       "  </thead>\n",
       "  <tbody>\n",
       "    <tr>\n",
       "      <th>0</th>\n",
       "      <td>37</td>\n",
       "      <td>Female</td>\n",
       "      <td>United States</td>\n",
       "      <td>No</td>\n",
       "      <td>Yes</td>\n",
       "    </tr>\n",
       "    <tr>\n",
       "      <th>1</th>\n",
       "      <td>44</td>\n",
       "      <td>Male</td>\n",
       "      <td>United States</td>\n",
       "      <td>No</td>\n",
       "      <td>No</td>\n",
       "    </tr>\n",
       "    <tr>\n",
       "      <th>3</th>\n",
       "      <td>31</td>\n",
       "      <td>Male</td>\n",
       "      <td>United Kingdom</td>\n",
       "      <td>Yes</td>\n",
       "      <td>Yes</td>\n",
       "    </tr>\n",
       "    <tr>\n",
       "      <th>4</th>\n",
       "      <td>31</td>\n",
       "      <td>Male</td>\n",
       "      <td>United States</td>\n",
       "      <td>No</td>\n",
       "      <td>No</td>\n",
       "    </tr>\n",
       "  </tbody>\n",
       "</table>\n",
       "</div>"
      ],
      "text/plain": [
       "   Age  Gender         Country family_history treatment\n",
       "0   37  Female   United States             No       Yes\n",
       "1   44    Male   United States             No        No\n",
       "3   31    Male  United Kingdom            Yes       Yes\n",
       "4   31    Male   United States             No        No"
      ]
     },
     "execution_count": 17,
     "metadata": {},
     "output_type": "execute_result"
    }
   ],
   "source": [
    "cleaned_mental_df.head(4)"
   ]
  },
  {
   "cell_type": "code",
   "execution_count": 18,
   "metadata": {},
   "outputs": [
    {
     "data": {
      "text/plain": [
       "array(['Female', 'Male', 'Femake', 'femail'], dtype=object)"
      ]
     },
     "execution_count": 18,
     "metadata": {},
     "output_type": "execute_result"
    }
   ],
   "source": [
    "cleaned_mental_df['Gender'].unique()"
   ]
  },
  {
   "cell_type": "markdown",
   "metadata": {},
   "source": [
    "We can see that there are some mistakes on Femake and femail. For this we will need to replace this values."
   ]
  },
  {
   "cell_type": "code",
   "execution_count": 19,
   "metadata": {},
   "outputs": [],
   "source": [
    "cleaned_mental_df = mh.replace_values(\n",
    "    cleaned_mental_df, 'Gender', 'Femake', 'Female'\n",
    ")"
   ]
  },
  {
   "cell_type": "code",
   "execution_count": 20,
   "metadata": {},
   "outputs": [],
   "source": [
    "cleaned_mental_df = mh.replace_values(\n",
    "    cleaned_mental_df, 'Gender', 'femail', 'Female'\n",
    ")"
   ]
  },
  {
   "cell_type": "code",
   "execution_count": 21,
   "metadata": {},
   "outputs": [
    {
     "data": {
      "text/plain": [
       "array(['Female', 'Male'], dtype=object)"
      ]
     },
     "execution_count": 21,
     "metadata": {},
     "output_type": "execute_result"
    }
   ],
   "source": [
    "cleaned_mental_df['Gender'].unique()"
   ]
  },
  {
   "cell_type": "markdown",
   "metadata": {},
   "source": [
    "Aggregations"
   ]
  },
  {
   "cell_type": "code",
   "execution_count": 22,
   "metadata": {},
   "outputs": [
    {
     "data": {
      "text/plain": [
       "No     559\n",
       "Yes    394\n",
       "Name: family_history, dtype: int64"
      ]
     },
     "execution_count": 22,
     "metadata": {},
     "output_type": "execute_result"
    }
   ],
   "source": [
    "cleaned_mental_df['family_history'].value_counts()"
   ]
  },
  {
   "cell_type": "code",
   "execution_count": 23,
   "metadata": {},
   "outputs": [
    {
     "data": {
      "text/plain": [
       "Yes    498\n",
       "No     455\n",
       "Name: treatment, dtype: int64"
      ]
     },
     "execution_count": 23,
     "metadata": {},
     "output_type": "execute_result"
    }
   ],
   "source": [
    "cleaned_mental_df['treatment'].value_counts()"
   ]
  },
  {
   "cell_type": "markdown",
   "metadata": {},
   "source": [
    "From above summary of value count on family history and treatment;\n",
    "\n",
    "We can see that most cases came from the families without history of mental illness and most mentally ill people were treated."
   ]
  },
  {
   "cell_type": "markdown",
   "metadata": {},
   "source": [
    "**Data Visualization**\n",
    "\n",
    "For visulaization I had done the age group of mental health group acroos the United States and United Kingdom"
   ]
  },
  {
   "cell_type": "code",
   "execution_count": 24,
   "metadata": {},
   "outputs": [
    {
     "data": {
      "image/png": "[encoded data removed]",
      "text/plain": [
       "<Figure size 720x360 with 1 Axes>"
      ]
     },
     "metadata": {
      "needs_background": "light"
     },
     "output_type": "display_data"
    }
   ],
   "source": [
    "mh.plot_bar(cleaned_mental_df,'Country', 'Age')"
   ]
  },
  {
   "cell_type": "markdown",
   "metadata": {},
   "source": [
    "In this graph I plotted Gender count of males and females "
   ]
  },
  {
   "cell_type": "code",
   "execution_count": 25,
   "metadata": {},
   "outputs": [
    {
     "data": {
      "image/png": "[encoded data removed]",
      "text/plain": [
       "<Figure size 720x360 with 1 Axes>"
      ]
     },
     "metadata": {
      "needs_background": "light"
     },
     "output_type": "display_data"
    }
   ],
   "source": [
    "mh.plot_count(cleaned_mental_df, 'Gender')"
   ]
  },
  {
   "cell_type": "code",
   "execution_count": 26,
   "metadata": {},
   "outputs": [
    {
     "data": {
      "image/png": "[encoded data removed]",
      "text/plain": [
       "<Figure size 720x360 with 1 Axes>"
      ]
     },
     "metadata": {
      "needs_background": "light"
     },
     "output_type": "display_data"
    }
   ],
   "source": [
    "mh.plot_count(cleaned_mental_df, 'treatment')"
   ]
  },
  {
   "cell_type": "code",
   "execution_count": 27,
   "metadata": {},
   "outputs": [
    {
     "data": {
      "image/png": "[encoded data removed]",
      "text/plain": [
       "<Figure size 720x360 with 1 Axes>"
      ]
     },
     "metadata": {
      "needs_background": "light"
     },
     "output_type": "display_data"
    }
   ],
   "source": [
    "mh.plot_count(cleaned_mental_df, 'Country')"
   ]
  },
  {
   "cell_type": "markdown",
   "metadata": {},
   "source": [
    "Let's Change Gender, Country, family_history, treatment to dummy for easier use in predicting."
   ]
  },
  {
   "cell_type": "code",
   "execution_count": 28,
   "metadata": {},
   "outputs": [],
   "source": [
    "final_mental_df = mh.get_dummies_data(cleaned_mental_df, 'Gender')"
   ]
  },
  {
   "cell_type": "markdown",
   "metadata": {},
   "source": [
    "Age (Male - 1, Female - 0)\n",
    "\n",
    "Country (United States - 1, United Kingdom - 0)\n",
    "\n",
    "FamilyHistory (Mental illness -1, no mental illness - 0)\n",
    "\n",
    "Treatment (treated - 1, not-treated - 0)"
   ]
  },
  {
   "cell_type": "code",
   "execution_count": 29,
   "metadata": {},
   "outputs": [
    {
     "data": {
      "text/html": [
       "<div>\n",
       "<style scoped>\n",
       "    .dataframe tbody tr th:only-of-type {\n",
       "        vertical-align: middle;\n",
       "    }\n",
       "\n",
       "    .dataframe tbody tr th {\n",
       "        vertical-align: top;\n",
       "    }\n",
       "\n",
       "    .dataframe thead th {\n",
       "        text-align: right;\n",
       "    }\n",
       "</style>\n",
       "<table border=\"1\" class=\"dataframe\">\n",
       "  <thead>\n",
       "    <tr style=\"text-align: right;\">\n",
       "      <th></th>\n",
       "      <th>Age</th>\n",
       "      <th>Gender_Male</th>\n",
       "      <th>Country_United States</th>\n",
       "      <th>family_history_Yes</th>\n",
       "      <th>treatment_Yes</th>\n",
       "    </tr>\n",
       "  </thead>\n",
       "  <tbody>\n",
       "    <tr>\n",
       "      <th>0</th>\n",
       "      <td>37</td>\n",
       "      <td>0</td>\n",
       "      <td>1</td>\n",
       "      <td>0</td>\n",
       "      <td>1</td>\n",
       "    </tr>\n",
       "    <tr>\n",
       "      <th>1</th>\n",
       "      <td>44</td>\n",
       "      <td>1</td>\n",
       "      <td>1</td>\n",
       "      <td>0</td>\n",
       "      <td>0</td>\n",
       "    </tr>\n",
       "    <tr>\n",
       "      <th>3</th>\n",
       "      <td>31</td>\n",
       "      <td>1</td>\n",
       "      <td>0</td>\n",
       "      <td>1</td>\n",
       "      <td>1</td>\n",
       "    </tr>\n",
       "    <tr>\n",
       "      <th>4</th>\n",
       "      <td>31</td>\n",
       "      <td>1</td>\n",
       "      <td>1</td>\n",
       "      <td>0</td>\n",
       "      <td>0</td>\n",
       "    </tr>\n",
       "    <tr>\n",
       "      <th>5</th>\n",
       "      <td>33</td>\n",
       "      <td>1</td>\n",
       "      <td>1</td>\n",
       "      <td>1</td>\n",
       "      <td>0</td>\n",
       "    </tr>\n",
       "  </tbody>\n",
       "</table>\n",
       "</div>"
      ],
      "text/plain": [
       "   Age  Gender_Male  Country_United States  family_history_Yes  treatment_Yes\n",
       "0   37            0                      1                   0              1\n",
       "1   44            1                      1                   0              0\n",
       "3   31            1                      0                   1              1\n",
       "4   31            1                      1                   0              0\n",
       "5   33            1                      1                   1              0"
      ]
     },
     "execution_count": 29,
     "metadata": {},
     "output_type": "execute_result"
    }
   ],
   "source": [
    "final_mental_df = mh.get_dummies_data(final_mental_df, 'Country')\n",
    "final_mental_df = mh.get_dummies_data(final_mental_df, 'family_history')\n",
    "final_mental_df = mh.get_dummies_data(final_mental_df, 'treatment')\n",
    "final_mental_df.head()"
   ]
  },
  {
   "cell_type": "markdown",
   "metadata": {},
   "source": [
    "Rename Column names"
   ]
  },
  {
   "cell_type": "code",
   "execution_count": 30,
   "metadata": {},
   "outputs": [
    {
     "data": {
      "text/plain": [
       "Index(['Age', 'Gender_Male', 'Country_United States', 'family_history_Yes',\n",
       "       'treatment_Yes'],\n",
       "      dtype='object')"
      ]
     },
     "execution_count": 30,
     "metadata": {},
     "output_type": "execute_result"
    }
   ],
   "source": [
    "final_mental_df.columns"
   ]
  },
  {
   "cell_type": "code",
   "execution_count": 31,
   "metadata": {},
   "outputs": [],
   "source": [
    "final_mental_df.rename(\n",
    "    columns = {\n",
    "        'Gender_Male':'Gender',\n",
    "        'Country_United States': 'Country',\n",
    "        'family_history_Yes': 'FamilyHistory',\n",
    "        'treatment_Yes': 'Treatment'\n",
    "        }, inplace = True\n",
    "    )"
   ]
  },
  {
   "cell_type": "code",
   "execution_count": 38,
   "metadata": {},
   "outputs": [
    {
     "data": {
      "text/html": [
       "<div>\n",
       "<style scoped>\n",
       "    .dataframe tbody tr th:only-of-type {\n",
       "        vertical-align: middle;\n",
       "    }\n",
       "\n",
       "    .dataframe tbody tr th {\n",
       "        vertical-align: top;\n",
       "    }\n",
       "\n",
       "    .dataframe thead th {\n",
       "        text-align: right;\n",
       "    }\n",
       "</style>\n",
       "<table border=\"1\" class=\"dataframe\">\n",
       "  <thead>\n",
       "    <tr style=\"text-align: right;\">\n",
       "      <th></th>\n",
       "      <th>Age</th>\n",
       "      <th>Gender</th>\n",
       "      <th>Country</th>\n",
       "      <th>FamilyHistory</th>\n",
       "      <th>Treatment</th>\n",
       "    </tr>\n",
       "  </thead>\n",
       "  <tbody>\n",
       "    <tr>\n",
       "      <th>0</th>\n",
       "      <td>37</td>\n",
       "      <td>0</td>\n",
       "      <td>1</td>\n",
       "      <td>0</td>\n",
       "      <td>1</td>\n",
       "    </tr>\n",
       "    <tr>\n",
       "      <th>1</th>\n",
       "      <td>44</td>\n",
       "      <td>1</td>\n",
       "      <td>1</td>\n",
       "      <td>0</td>\n",
       "      <td>0</td>\n",
       "    </tr>\n",
       "    <tr>\n",
       "      <th>3</th>\n",
       "      <td>31</td>\n",
       "      <td>1</td>\n",
       "      <td>0</td>\n",
       "      <td>1</td>\n",
       "      <td>1</td>\n",
       "    </tr>\n",
       "    <tr>\n",
       "      <th>4</th>\n",
       "      <td>31</td>\n",
       "      <td>1</td>\n",
       "      <td>1</td>\n",
       "      <td>0</td>\n",
       "      <td>0</td>\n",
       "    </tr>\n",
       "    <tr>\n",
       "      <th>5</th>\n",
       "      <td>33</td>\n",
       "      <td>1</td>\n",
       "      <td>1</td>\n",
       "      <td>1</td>\n",
       "      <td>0</td>\n",
       "    </tr>\n",
       "    <tr>\n",
       "      <th>...</th>\n",
       "      <td>...</td>\n",
       "      <td>...</td>\n",
       "      <td>...</td>\n",
       "      <td>...</td>\n",
       "      <td>...</td>\n",
       "    </tr>\n",
       "    <tr>\n",
       "      <th>1280</th>\n",
       "      <td>26</td>\n",
       "      <td>1</td>\n",
       "      <td>0</td>\n",
       "      <td>0</td>\n",
       "      <td>1</td>\n",
       "    </tr>\n",
       "    <tr>\n",
       "      <th>1281</th>\n",
       "      <td>32</td>\n",
       "      <td>1</td>\n",
       "      <td>1</td>\n",
       "      <td>1</td>\n",
       "      <td>1</td>\n",
       "    </tr>\n",
       "    <tr>\n",
       "      <th>1282</th>\n",
       "      <td>34</td>\n",
       "      <td>1</td>\n",
       "      <td>1</td>\n",
       "      <td>1</td>\n",
       "      <td>1</td>\n",
       "    </tr>\n",
       "    <tr>\n",
       "      <th>1283</th>\n",
       "      <td>46</td>\n",
       "      <td>0</td>\n",
       "      <td>1</td>\n",
       "      <td>0</td>\n",
       "      <td>1</td>\n",
       "    </tr>\n",
       "    <tr>\n",
       "      <th>1284</th>\n",
       "      <td>25</td>\n",
       "      <td>1</td>\n",
       "      <td>1</td>\n",
       "      <td>1</td>\n",
       "      <td>1</td>\n",
       "    </tr>\n",
       "  </tbody>\n",
       "</table>\n",
       "<p>953 rows × 5 columns</p>\n",
       "</div>"
      ],
      "text/plain": [
       "      Age  Gender  Country  FamilyHistory  Treatment\n",
       "0      37       0        1              0          1\n",
       "1      44       1        1              0          0\n",
       "3      31       1        0              1          1\n",
       "4      31       1        1              0          0\n",
       "5      33       1        1              1          0\n",
       "...   ...     ...      ...            ...        ...\n",
       "1280   26       1        0              0          1\n",
       "1281   32       1        1              1          1\n",
       "1282   34       1        1              1          1\n",
       "1283   46       0        1              0          1\n",
       "1284   25       1        1              1          1\n",
       "\n",
       "[953 rows x 5 columns]"
      ]
     },
     "execution_count": 38,
     "metadata": {},
     "output_type": "execute_result"
    }
   ],
   "source": [
    "final_mental_df"
   ]
  },
  {
   "cell_type": "code",
   "execution_count": 76,
   "metadata": {},
   "outputs": [],
   "source": [
    "def alter(value):\n",
    "    if value == \"Female\" :\n",
    "        return 'F'\n",
    "    if value == \"Male\":\n",
    "        return 'M'"
   ]
  },
  {
   "cell_type": "code",
   "execution_count": 77,
   "metadata": {},
   "outputs": [
    {
     "data": {
      "text/html": [
       "<div>\n",
       "<style scoped>\n",
       "    .dataframe tbody tr th:only-of-type {\n",
       "        vertical-align: middle;\n",
       "    }\n",
       "\n",
       "    .dataframe tbody tr th {\n",
       "        vertical-align: top;\n",
       "    }\n",
       "\n",
       "    .dataframe thead th {\n",
       "        text-align: right;\n",
       "    }\n",
       "</style>\n",
       "<table border=\"1\" class=\"dataframe\">\n",
       "  <thead>\n",
       "    <tr style=\"text-align: right;\">\n",
       "      <th></th>\n",
       "      <th>Age</th>\n",
       "      <th>Gender</th>\n",
       "      <th>Country</th>\n",
       "      <th>family_history</th>\n",
       "      <th>treatment</th>\n",
       "    </tr>\n",
       "  </thead>\n",
       "  <tbody>\n",
       "    <tr>\n",
       "      <th>0</th>\n",
       "      <td>37</td>\n",
       "      <td>Female</td>\n",
       "      <td>United States</td>\n",
       "      <td>No</td>\n",
       "      <td>Yes</td>\n",
       "    </tr>\n",
       "    <tr>\n",
       "      <th>1</th>\n",
       "      <td>44</td>\n",
       "      <td>Male</td>\n",
       "      <td>United States</td>\n",
       "      <td>No</td>\n",
       "      <td>No</td>\n",
       "    </tr>\n",
       "    <tr>\n",
       "      <th>3</th>\n",
       "      <td>31</td>\n",
       "      <td>Male</td>\n",
       "      <td>United Kingdom</td>\n",
       "      <td>Yes</td>\n",
       "      <td>Yes</td>\n",
       "    </tr>\n",
       "    <tr>\n",
       "      <th>4</th>\n",
       "      <td>31</td>\n",
       "      <td>Male</td>\n",
       "      <td>United States</td>\n",
       "      <td>No</td>\n",
       "      <td>No</td>\n",
       "    </tr>\n",
       "    <tr>\n",
       "      <th>5</th>\n",
       "      <td>33</td>\n",
       "      <td>Male</td>\n",
       "      <td>United States</td>\n",
       "      <td>Yes</td>\n",
       "      <td>No</td>\n",
       "    </tr>\n",
       "  </tbody>\n",
       "</table>\n",
       "</div>"
      ],
      "text/plain": [
       "   Age  Gender         Country family_history treatment\n",
       "0   37  Female   United States             No       Yes\n",
       "1   44    Male   United States             No        No\n",
       "3   31    Male  United Kingdom            Yes       Yes\n",
       "4   31    Male   United States             No        No\n",
       "5   33    Male   United States            Yes        No"
      ]
     },
     "execution_count": 77,
     "metadata": {},
     "output_type": "execute_result"
    }
   ],
   "source": [
    "mental_df.head()"
   ]
  },
  {
   "cell_type": "code",
   "execution_count": 83,
   "metadata": {},
   "outputs": [],
   "source": [
    "mental_df[\"Age\"] = mental_df[\"Age\"].astype('int64')\n",
    "mental_df[\"Age\"] = mental_df[\"Age\"].astype('int64')"
   ]
  },
  {
   "cell_type": "code",
   "execution_count": 99,
   "metadata": {},
   "outputs": [
    {
     "data": {
      "text/html": [
       "<div>\n",
       "<style scoped>\n",
       "    .dataframe tbody tr th:only-of-type {\n",
       "        vertical-align: middle;\n",
       "    }\n",
       "\n",
       "    .dataframe tbody tr th {\n",
       "        vertical-align: top;\n",
       "    }\n",
       "\n",
       "    .dataframe thead th {\n",
       "        text-align: right;\n",
       "    }\n",
       "</style>\n",
       "<table border=\"1\" class=\"dataframe\">\n",
       "  <thead>\n",
       "    <tr style=\"text-align: right;\">\n",
       "      <th></th>\n",
       "      <th>Age</th>\n",
       "      <th>Gender</th>\n",
       "      <th>family_history</th>\n",
       "      <th>treatment</th>\n",
       "    </tr>\n",
       "    <tr>\n",
       "      <th>Country</th>\n",
       "      <th></th>\n",
       "      <th></th>\n",
       "      <th></th>\n",
       "      <th></th>\n",
       "    </tr>\n",
       "  </thead>\n",
       "  <tbody>\n",
       "    <tr>\n",
       "      <th>United Kingdom</th>\n",
       "      <td>187</td>\n",
       "      <td>0</td>\n",
       "      <td>187</td>\n",
       "      <td>183</td>\n",
       "    </tr>\n",
       "    <tr>\n",
       "      <th>United States</th>\n",
       "      <td>766</td>\n",
       "      <td>0</td>\n",
       "      <td>766</td>\n",
       "      <td>753</td>\n",
       "    </tr>\n",
       "  </tbody>\n",
       "</table>\n",
       "</div>"
      ],
      "text/plain": [
       "                Age  Gender  family_history  treatment\n",
       "Country                                               \n",
       "United Kingdom  187       0             187        183\n",
       "United States   766       0             766        753"
      ]
     },
     "metadata": {},
     "output_type": "display_data"
    }
   ],
   "source": [
    "mentalDfGrpByCountry = mental_df.groupby(['Country']).count()\n",
    "display(mentalDfGrpByCountry)"
   ]
  },
  {
   "cell_type": "code",
   "execution_count": 103,
   "metadata": {},
   "outputs": [
    {
     "data": {
      "text/html": [
       "<div>\n",
       "<style scoped>\n",
       "    .dataframe tbody tr th:only-of-type {\n",
       "        vertical-align: middle;\n",
       "    }\n",
       "\n",
       "    .dataframe tbody tr th {\n",
       "        vertical-align: top;\n",
       "    }\n",
       "\n",
       "    .dataframe thead th {\n",
       "        text-align: right;\n",
       "    }\n",
       "</style>\n",
       "<table border=\"1\" class=\"dataframe\">\n",
       "  <thead>\n",
       "    <tr style=\"text-align: right;\">\n",
       "      <th></th>\n",
       "      <th>Age</th>\n",
       "      <th>Gender</th>\n",
       "      <th>Country</th>\n",
       "      <th>family_history</th>\n",
       "    </tr>\n",
       "    <tr>\n",
       "      <th>treatment</th>\n",
       "      <th></th>\n",
       "      <th></th>\n",
       "      <th></th>\n",
       "      <th></th>\n",
       "    </tr>\n",
       "  </thead>\n",
       "  <tbody>\n",
       "    <tr>\n",
       "      <th>No</th>\n",
       "      <td>455</td>\n",
       "      <td>0</td>\n",
       "      <td>455</td>\n",
       "      <td>455</td>\n",
       "    </tr>\n",
       "    <tr>\n",
       "      <th>Yes</th>\n",
       "      <td>481</td>\n",
       "      <td>0</td>\n",
       "      <td>481</td>\n",
       "      <td>481</td>\n",
       "    </tr>\n",
       "  </tbody>\n",
       "</table>\n",
       "</div>"
      ],
      "text/plain": [
       "           Age  Gender  Country  family_history\n",
       "treatment                                      \n",
       "No         455       0      455             455\n",
       "Yes        481       0      481             481"
      ]
     },
     "metadata": {},
     "output_type": "display_data"
    }
   ],
   "source": [
    "mentalDfGrpByTreatment = mental_df.groupby(['treatment']).count()\n",
    "display(mentalDfGrpByTreatment)"
   ]
  },
  {
   "cell_type": "markdown",
   "metadata": {},
   "source": [
    "**Conclusion**\n",
    "\n",
    "When we compare the mental illness in United States and United Kingdom, we conclude that United States has more mentally people than United Kingdom.\n",
    "\n",
    "The treatment given to the patient can be given to others if there is a similar one if needed the same gender.\n",
    "\n",
    "The information is very sensitive data,must be protected and that can be shared only to hospitals only.\n",
    "\n",
    "As I am learning still, my goal in future is to provide common website encrypted, which the patients info and treatment only given access to hospitals, I know its a very tough one but I have an interest in this when I get more experience.  "
   ]
  },
  {
   "cell_type": "markdown",
   "metadata": {},
   "source": []
  }
 ],
 "metadata": {
  "kernelspec": {
   "display_name": "Python 3",
   "language": "python",
   "name": "python3"
  },
  "language_info": {
   "codemirror_mode": {
    "name": "ipython",
    "version": 3
   },
   "file_extension": ".py",
   "mimetype": "text/x-python",
   "name": "python",
   "nbconvert_exporter": "python",
   "pygments_lexer": "ipython3",
   "version": "3.6.7"
  },
  "vscode": {
   "interpreter": {
    "hash": "916dbcbb3f70747c44a77c7bcd40155683ae19c65e1c03b4aa3499c5328201f1"
   }
  }
 },
 "nbformat": 4,
 "nbformat_minor": 2
}
