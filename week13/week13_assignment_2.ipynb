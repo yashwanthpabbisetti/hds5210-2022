{
 "cells": [
  {
   "cell_type": "markdown",
   "metadata": {
    "nbgrader": {
     "grade": false,
     "grade_id": "cell-fc1c39d0d6f8b82a",
     "locked": true,
     "schema_version": 1,
     "solution": false
    }
   },
   "source": [
    "# Week 13 Programming Assignment\n",
    "\n",
    "As you're working on identifying data for your final project, it's helpful to spend some time exploring your various data files.  For this week's assignment, I'd like you to take a few of the ideas from the the lectures, review assignment, and tonight's lecture to start exploring the data you plan to use for the final project.\n",
    "\n",
    "For the following activities, you can use just one of the data files that you've identified, or you can do the activities using different data files.  That's up to you.  Please describe what you're doing in a Markdown cell or in the comments of your code.  When you've completed the assignment, submit it as normal."
   ]
  },
  {
   "cell_type": "markdown",
   "metadata": {},
   "source": [
    "### 1. Basic Statistics\n",
    "\n",
    "Use Python to read in your data file and show many rows and columns your data has."
   ]
  },
  {
   "cell_type": "code",
   "execution_count": 1,
   "metadata": {},
   "outputs": [
    {
     "name": "stderr",
     "output_type": "stream",
     "text": [
      "/opt/tljh/user/lib/python3.6/site-packages/IPython/core/interactiveshell.py:3051: DtypeWarning: Columns (17,18) have mixed types.Specify dtype option on import or set low_memory=False.\n",
      "  interactivity=interactivity, compiler=compiler, result=result)\n"
     ]
    }
   ],
   "source": [
    "import pandas as pd\n",
    "import matplotlib.pyplot as plt\n",
    "import matplotlib\n",
    "\n",
    "\n",
    "##%matplotlib inline\n",
    "\n",
    "df = pd.read_csv('Alzheimer_s_Disease_and_Healthy_Aging_Data.csv')\n",
    "num_rows, num_columns = df.shape"
   ]
  },
  {
   "cell_type": "markdown",
   "metadata": {},
   "source": [
    "### 2. Data Diversity\n",
    "\n",
    "Use Python to identify how many unique values each column in your data has.  Use Python to identify which column has the greatest number of distinct values (aka the most diversity)?  If your data has a unique identifier (e.g. a person or visit or record ID) then find the column with the next most number of unique values."
   ]
  },
  {
   "cell_type": "code",
   "execution_count": 2,
   "metadata": {},
   "outputs": [
    {
     "name": "stdout",
     "output_type": "stream",
     "text": [
      "Shape of Dataset before missing value treatment:  (214462, 39)\n",
      "Shape of Dataset after missing value treatment:  (290, 30)\n"
     ]
    }
   ],
   "source": [
    "print('Shape of Dataset before missing value treatment: ', df.shape)\n",
    "\n",
    "# dropping all NaN's columns\n",
    "df = df.dropna(axis=1, how=\"all\")\n",
    "# dropping rows with NaN samples\n",
    "df = df.dropna(axis=0)\n",
    "\n",
    "print('Shape of Dataset after missing value treatment: ', df.shape)"
   ]
  },
  {
   "cell_type": "code",
   "execution_count": 3,
   "metadata": {},
   "outputs": [
    {
     "name": "stdout",
     "output_type": "stream",
     "text": [
      "[('High_Confidence_Limit', 58.27586206896552), ('Low_Confidence_Limit', 56.55172413793104), ('Data_Value', 42.41379310344828), ('Data_Value_Alt', 42.41379310344828), ('LocationAbbr', 4.827586206896552), ('LocationDesc', 4.827586206896552), ('Geolocation', 4.827586206896552), ('LocationID', 4.827586206896552), ('Stratification2', 2.0689655172413794), ('StratificationID2', 2.0689655172413794), ('YearStart', 1.0344827586206897), ('Stratification1', 1.0344827586206897), ('StratificationID1', 1.0344827586206897), ('YearEnd', 0.6896551724137931), ('StratificationCategory2', 0.6896551724137931), ('StratificationCategoryID2', 0.6896551724137931), ('Datasource', 0.3448275862068966), ('Class', 0.3448275862068966), ('Topic', 0.3448275862068966), ('Question', 0.3448275862068966), ('Data_Value_Unit', 0.3448275862068966), ('DataValueTypeID', 0.3448275862068966), ('Data_Value_Type', 0.3448275862068966), ('Data_Value_Footnote_Symbol', 0.3448275862068966), ('Data_Value_Footnote', 0.3448275862068966), ('StratificationCategory1', 0.3448275862068966), ('ClassID', 0.3448275862068966), ('TopicID', 0.3448275862068966), ('QuestionID', 0.3448275862068966), ('StratificationCategoryID1', 0.3448275862068966)]\n"
     ]
    }
   ],
   "source": [
    "# Computing unique %of unique values per column on over all samples\n",
    "diversity_map = []\n",
    "for index, column in enumerate(df.columns):\n",
    "    unique_values = pd.unique(df.iloc[:, index])\n",
    "    diversity_map.append((column,(len(unique_values)/df.shape[0])*100))\n",
    "diversity_map = sorted(diversity_map, key= lambda x: x[1], reverse=True)\n",
    "\n",
    "print(diversity_map)"
   ]
  },
  {
   "cell_type": "markdown",
   "metadata": {},
   "source": [
    "### 3. Data Redundancy\n",
    "\n",
    "Use Python to identify any columns in your data where the value for every row is the same.  For example, if you had a gender column and all the rows said 'M', then you would want to write the code that helped you determine that."
   ]
  },
  {
   "cell_type": "code",
   "execution_count": 4,
   "metadata": {},
   "outputs": [
    {
     "name": "stdout",
     "output_type": "stream",
     "text": [
      "column: Datasource with redundant_value: BRFSS\n",
      "column: Class with redundant_value: Caregiving\n",
      "column: Topic with redundant_value: Provide care for someone with cognitive impairment within the past month\n",
      "column: Question with redundant_value: Percentage of older adults who provided care for someone with dementia or other cognitive impairment within the past month\n",
      "column: Data_Value_Unit with redundant_value: %\n",
      "column: DataValueTypeID with redundant_value: PRCTG\n",
      "column: Data_Value_Type with redundant_value: Percentage\n",
      "column: Data_Value_Footnote_Symbol with redundant_value: **\n",
      "column: Data_Value_Footnote with redundant_value: Estimate is not comparable to those generated using data from years prior to 2019 due to survey question changes\n",
      "column: StratificationCategory1 with redundant_value: Age Group\n",
      "column: ClassID with redundant_value: C07\n",
      "column: TopicID with redundant_value: TGC05\n",
      "column: QuestionID with redundant_value: Q40\n",
      "column: StratificationCategoryID1 with redundant_value: AGE\n"
     ]
    }
   ],
   "source": [
    "# finding redundant columns\n",
    "for index, column in enumerate(df.columns):\n",
    "    unique_values = pd.unique(df.iloc[:, index])\n",
    "    if len(unique_values) == 1:\n",
    "        # columns with only one unique entry\n",
    "        print(\"column: {} with redundant_value: {}\".format(column, unique_values[0]))"
   ]
  },
  {
   "cell_type": "markdown",
   "metadata": {},
   "source": [
    "### 4. Range of Values\n",
    "\n",
    "Your data almost certainly has some numeric columns that can be summed or averaged.  Create a histogram that shows the distribution of values for this column."
   ]
  },
  {
   "cell_type": "code",
   "execution_count": 5,
   "metadata": {},
   "outputs": [
    {
     "name": "stdout",
     "output_type": "stream",
     "text": [
      "Average Low Confidence Limit:  20.559\n",
      "Average High Confidence Limit:  35.221\n"
     ]
    }
   ],
   "source": [
    "# converting numerical column to float64\n",
    "df[\"Low_Confidence_Limit\"] = df[\"Low_Confidence_Limit\"].astype('float64')\n",
    "df[\"High_Confidence_Limit\"] = df[\"High_Confidence_Limit\"].astype('float64')\n",
    "# average confidence limits\n",
    "avg_low_confidence_limit = df[\"Low_Confidence_Limit\"].mean()\n",
    "avg_high_confidence_limit = df[\"High_Confidence_Limit\"].mean()\n",
    "\n",
    "print(\"Average Low Confidence Limit: \", round(avg_low_confidence_limit,3))\n",
    "print(\"Average High Confidence Limit: \", round(avg_high_confidence_limit, 3))\n"
   ]
  },
  {
   "cell_type": "code",
   "execution_count": 6,
   "metadata": {},
   "outputs": [
    {
     "data": {
      "text/plain": [
       "Text(0, 0.5, 'Number of Samples')"
      ]
     },
     "execution_count": 6,
     "metadata": {},
     "output_type": "execute_result"
    },
    {
     "data": {
      "image/png": "[encoded data removed]",
      "text/plain": [
       "<Figure size 432x288 with 1 Axes>"
      ]
     },
     "metadata": {
      "needs_background": "light"
     },
     "output_type": "display_data"
    }
   ],
   "source": [
    "df1 = df[\"Low_Confidence_Limit\"].value_counts().reset_index()\n",
    "df1 = df1.rename(columns = {'index':'Lower_limit'})\n",
    "\n",
    "df2= df[\"High_Confidence_Limit\"].value_counts().reset_index()\n",
    "df2 = df2.rename(columns = {'index':'Higher_limit'})\n",
    "\n",
    "\n",
    "plt.bar(df1.Lower_limit, df1[\"Low_Confidence_Limit\"])\n",
    "plt.title(\"Distribution of Low Confidence Limit\")\n",
    "plt.xlabel(\"Lower Confidence Limit\")\n",
    "plt.ylabel(\"Number of Samples\")"
   ]
  },
  {
   "cell_type": "code",
   "execution_count": 7,
   "metadata": {},
   "outputs": [
    {
     "data": {
      "text/plain": [
       "Text(0, 0.5, 'Number of Samples')"
      ]
     },
     "execution_count": 7,
     "metadata": {},
     "output_type": "execute_result"
    },
    {
     "data": {
      "image/png": "[encoded data removed]",
      "text/plain": [
       "<Figure size 432x288 with 1 Axes>"
      ]
     },
     "metadata": {
      "needs_background": "light"
     },
     "output_type": "display_data"
    }
   ],
   "source": [
    "plt.bar(df2.Higher_limit, df2[\"High_Confidence_Limit\"])\n",
    "plt.title(\"Distribution of High Confidence Limit\")\n",
    "plt.xlabel(\"Higher Confidence Limit\")\n",
    "plt.ylabel(\"Number of Samples\")\n"
   ]
  },
  {
   "cell_type": "markdown",
   "metadata": {},
   "source": [
    "### 5. Discussion\n",
    "\n",
    "Do any additional exploration of this data that you think may be interesting and include your code here.  Then go onto Slack and make a post about what you've observed.  Share your observation.  Share your code, if you like.  Share a screenshot of the data or a chart based on the data.\n",
    "\n",
    "Then comment on at least two other people's observations that they share on Slack.  (Use the reply as thread option in Slack to keep the conversation organized.)"
   ]
  },
  {
   "cell_type": "code",
   "execution_count": 8,
   "metadata": {},
   "outputs": [
    {
     "data": {
      "text/plain": [
       "YearStart                       int64\n",
       "YearEnd                         int64\n",
       "LocationAbbr                   object\n",
       "LocationDesc                   object\n",
       "Datasource                     object\n",
       "Class                          object\n",
       "Topic                          object\n",
       "Question                       object\n",
       "Data_Value_Unit                object\n",
       "DataValueTypeID                object\n",
       "Data_Value_Type                object\n",
       "Data_Value                    float64\n",
       "Data_Value_Alt                float64\n",
       "Data_Value_Footnote_Symbol     object\n",
       "Data_Value_Footnote            object\n",
       "Low_Confidence_Limit          float64\n",
       "High_Confidence_Limit         float64\n",
       "StratificationCategory1        object\n",
       "Stratification1                object\n",
       "StratificationCategory2        object\n",
       "Stratification2                object\n",
       "Geolocation                    object\n",
       "ClassID                        object\n",
       "TopicID                        object\n",
       "QuestionID                     object\n",
       "LocationID                      int64\n",
       "StratificationCategoryID1      object\n",
       "StratificationID1              object\n",
       "StratificationCategoryID2      object\n",
       "StratificationID2              object\n",
       "dtype: object"
      ]
     },
     "execution_count": 8,
     "metadata": {},
     "output_type": "execute_result"
    }
   ],
   "source": [
    "df.dtypes"
   ]
  },
  {
   "cell_type": "code",
   "execution_count": 9,
   "metadata": {},
   "outputs": [
    {
     "data": {
      "image/png": "[encoded data removed]",
      "text/plain": [
       "<Figure size 1080x756 with 1 Axes>"
      ]
     },
     "metadata": {
      "needs_background": "light"
     },
     "output_type": "display_data"
    }
   ],
   "source": [
    "# number of entries per location\n",
    "df1 = df[\"LocationDesc\"].value_counts().reset_index()\n",
    "df1 = df1.rename(columns = {'index':'state'})\n",
    "\n",
    "import matplotlib.pyplot as plt\n",
    "import matplotlib\n",
    "\n",
    "fig = matplotlib.pyplot.gcf()\n",
    "fig.set_size_inches(15, 10.5)\n",
    "\n",
    "\n",
    "plt.bar(df1.state, df1.LocationDesc)\n",
    "plt.title(\"Number of samples per location\")\n",
    "plt.xlabel(\"Location\")\n",
    "plt.ylabel(\"Number of Samples\")\n",
    "\n",
    "plt.show()"
   ]
  },
  {
   "cell_type": "code",
   "execution_count": null,
   "metadata": {},
   "outputs": [],
   "source": [
    "\"\"\"\n",
    "I had collected the data from data.gov of Alzheimer_s_Disease_and_Healthy_Aging_Data that says about the patients and their \n",
    " ages,what is the confidence_limits and patients across the United States.\n",
    "\"\"\""
   ]
  },
  {
   "cell_type": "markdown",
   "metadata": {},
   "source": [
    "\n",
    "\n",
    "---\n",
    "\n",
    "\n",
    "\n",
    "## Submitting Your Work\n",
    "\n",
    "Submit your work as usual."
   ]
  },
  {
   "cell_type": "code",
   "execution_count": null,
   "metadata": {},
   "outputs": [],
   "source": []
  }
 ],
 "metadata": {
  "celltoolbar": "Create Assignment",
  "kernelspec": {
   "display_name": "Python 3",
   "language": "python",
   "name": "python3"
  },
  "language_info": {
   "codemirror_mode": {
    "name": "ipython",
    "version": 3
   },
   "file_extension": ".py",
   "mimetype": "text/x-python",
   "name": "python",
   "nbconvert_exporter": "python",
   "pygments_lexer": "ipython3",
   "version": "3.6.7"
  }
 },
 "nbformat": 4,
 "nbformat_minor": 2
}
