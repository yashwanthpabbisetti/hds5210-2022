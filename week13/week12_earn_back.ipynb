{
 "cells": [
  {
   "cell_type": "markdown",
   "metadata": {},
   "source": [
    "# Week 12 - Earn-Back Points Assignment #2\n",
    "\n",
    "These exercises are entirely optional, but they provide good practice. And you can use them to earn extra points toward your semester grade.  Completing all the questions in this assignment correctly will earn you back 8 points.\n",
    "\n",
    "There will be 2 more assignments like this between now and the end of the semester, giving you the opportunity to earn back a total of 32 points.\n",
    "\n",
    "**If anything about the above rules is unclear, please message me on Canvas or via email**"
   ]
  },
  {
   "cell_type": "markdown",
   "metadata": {},
   "source": [
    "---"
   ]
  },
  {
   "cell_type": "markdown",
   "metadata": {},
   "source": [
    "## Introduction\n",
    "\n",
    "The Centers for Medicare and Medicaid Services (CMS) provides lots of information online including a general directory of hospitals in the US. For this set of exercises, we'll be working with a file referred to as [Hospital General Information](https://data.cms.gov/provider-data/dataset/xubh-q36u). **Download this file as a CSV and upload it to your week 13 directory on Jupyter.**\n",
    "\n",
    "Each of these exercises will involve finding an answer to a specific question and then submitting that.  Your answers must be computed using Python code within this notebook to earn full credit.\n",
    "\n",
    "You do not need to write functions to compute the answers and do not need to provide any special documentation. You can simply calculate the answers inline in the notebook and then submit your answers using the `answers` dictionary, similar to how most of our part 1 assignments work.\n"
   ]
  },
  {
   "cell_type": "code",
   "execution_count": 1,
   "metadata": {},
   "outputs": [],
   "source": [
    "import pandas as pd\n",
    "answers = {}\n",
    "df = pd.read_csv('Hospital_General_Information.csv')\n"
   ]
  },
  {
   "cell_type": "markdown",
   "metadata": {},
   "source": [
    "---"
   ]
  },
  {
   "cell_type": "markdown",
   "metadata": {},
   "source": [
    "## Tips\n",
    "\n",
    "Before you get started, I want to show you a pattern that you might find useful. In the example below, I'm going to summarize a simple data frame, determine which name occurs most often, how often that is, and what the percent of total that represents.  This can be a useful pattern in general and you should be able to apply it below."
   ]
  },
  {
   "cell_type": "code",
   "execution_count": 2,
   "metadata": {},
   "outputs": [
    {
     "data": {
      "text/html": [
       "<div>\n",
       "<style scoped>\n",
       "    .dataframe tbody tr th:only-of-type {\n",
       "        vertical-align: middle;\n",
       "    }\n",
       "\n",
       "    .dataframe tbody tr th {\n",
       "        vertical-align: top;\n",
       "    }\n",
       "\n",
       "    .dataframe thead th {\n",
       "        text-align: right;\n",
       "    }\n",
       "</style>\n",
       "<table border=\"1\" class=\"dataframe\">\n",
       "  <thead>\n",
       "    <tr style=\"text-align: right;\">\n",
       "      <th></th>\n",
       "      <th>Last Name</th>\n",
       "      <th>First Name</th>\n",
       "      <th>Age</th>\n",
       "    </tr>\n",
       "  </thead>\n",
       "  <tbody>\n",
       "    <tr>\n",
       "      <th>0</th>\n",
       "      <td>Boal</td>\n",
       "      <td>Paul</td>\n",
       "      <td>45</td>\n",
       "    </tr>\n",
       "    <tr>\n",
       "      <th>1</th>\n",
       "      <td>Boal</td>\n",
       "      <td>Anny</td>\n",
       "      <td>47</td>\n",
       "    </tr>\n",
       "    <tr>\n",
       "      <th>2</th>\n",
       "      <td>Boal</td>\n",
       "      <td>James</td>\n",
       "      <td>75</td>\n",
       "    </tr>\n",
       "    <tr>\n",
       "      <th>3</th>\n",
       "      <td>Lester</td>\n",
       "      <td>Sarahlynn</td>\n",
       "      <td>48</td>\n",
       "    </tr>\n",
       "    <tr>\n",
       "      <th>4</th>\n",
       "      <td>Lester</td>\n",
       "      <td>Carolynn</td>\n",
       "      <td>70</td>\n",
       "    </tr>\n",
       "  </tbody>\n",
       "</table>\n",
       "</div>"
      ],
      "text/plain": [
       "  Last Name First Name  Age\n",
       "0      Boal       Paul   45\n",
       "1      Boal       Anny   47\n",
       "2      Boal      James   75\n",
       "3    Lester  Sarahlynn   48\n",
       "4    Lester   Carolynn   70"
      ]
     },
     "execution_count": 2,
     "metadata": {},
     "output_type": "execute_result"
    }
   ],
   "source": [
    "df = pd.DataFrame([\n",
    "    ['Boal','Paul',45],\n",
    "    ['Boal','Anny',47],\n",
    "    ['Boal','James',75],\n",
    "    ['Lester','Sarahlynn',48],\n",
    "    ['Lester','Carolynn',70]\n",
    "], columns=['Last Name','First Name','Age'])\n",
    "\n",
    "df"
   ]
  },
  {
   "cell_type": "code",
   "execution_count": 3,
   "metadata": {},
   "outputs": [
    {
     "data": {
      "text/plain": [
       "Last Name\n",
       "Boal      3\n",
       "Lester    2\n",
       "Name: Last Name, dtype: int64"
      ]
     },
     "execution_count": 3,
     "metadata": {},
     "output_type": "execute_result"
    }
   ],
   "source": [
    "# Which family (based on Last Name) has the most people?\n",
    "\n",
    "# 1. Group by Last Name\n",
    "# 2. Count how many people are in each family\n",
    "# 3. Sort by value\n",
    "\n",
    "\n",
    "by_last_name = df.groupby('Last Name')\n",
    "family_count = by_last_name['Last Name'].count()\n",
    "family_sorted = family_count.sort_values(ascending=False)\n",
    "\n",
    "family_sorted"
   ]
  },
  {
   "cell_type": "code",
   "execution_count": 4,
   "metadata": {},
   "outputs": [
    {
     "data": {
      "text/plain": [
       "'Boal'"
      ]
     },
     "execution_count": 4,
     "metadata": {},
     "output_type": "execute_result"
    }
   ],
   "source": [
    "# 4. Extract the \"index\" (aka Last Name)\n",
    "# 5. Choose the first value\n",
    "\n",
    "top_family = list(family_sorted.index)[0]\n",
    "top_family"
   ]
  },
  {
   "cell_type": "code",
   "execution_count": 5,
   "metadata": {},
   "outputs": [
    {
     "data": {
      "text/plain": [
       "3"
      ]
     },
     "execution_count": 5,
     "metadata": {},
     "output_type": "execute_result"
    }
   ],
   "source": [
    "# How many members does that family have?\n",
    "\n",
    "# 6. Choose that family from the counts we already computed.\n",
    "\n",
    "family_count[top_family]"
   ]
  },
  {
   "cell_type": "code",
   "execution_count": 6,
   "metadata": {},
   "outputs": [
    {
     "data": {
      "text/plain": [
       "0.6"
      ]
     },
     "execution_count": 6,
     "metadata": {},
     "output_type": "execute_result"
    }
   ],
   "source": [
    "# What percent of total is that?\n",
    "\n",
    "# 7. Compute a total\n",
    "# 8. Compute the percent\n",
    "\n",
    "total = family_count.sum()\n",
    "pct = family_count[top_family] / total\n",
    "\n",
    "pct"
   ]
  },
  {
   "cell_type": "code",
   "execution_count": 7,
   "metadata": {},
   "outputs": [],
   "source": [
    "import pandas as pd\n",
    "answers = {}\n",
    "df = pd.read_csv('Hospital_General_Information.csv')\n"
   ]
  },
  {
   "cell_type": "markdown",
   "metadata": {},
   "source": [
    "---\n",
    "\n",
    "### E12.01\n",
    "\n",
    "How many columns are there in this data frame?"
   ]
  },
  {
   "cell_type": "code",
   "execution_count": 8,
   "metadata": {},
   "outputs": [
    {
     "data": {
      "text/plain": [
       "38"
      ]
     },
     "execution_count": 8,
     "metadata": {},
     "output_type": "execute_result"
    }
   ],
   "source": [
    "df.shape[1]"
   ]
  },
  {
   "cell_type": "code",
   "execution_count": 9,
   "metadata": {},
   "outputs": [],
   "source": [
    "answers['E12.01']=\"38\""
   ]
  },
  {
   "cell_type": "markdown",
   "metadata": {},
   "source": [
    "### E12.02\n",
    "\n",
    "How many hospitals are there in this file? (Each row is one hospital.)"
   ]
  },
  {
   "cell_type": "code",
   "execution_count": 10,
   "metadata": {},
   "outputs": [
    {
     "data": {
      "text/plain": [
       "5307"
      ]
     },
     "execution_count": 10,
     "metadata": {},
     "output_type": "execute_result"
    }
   ],
   "source": [
    "df['Facility Name'].count()"
   ]
  },
  {
   "cell_type": "code",
   "execution_count": 11,
   "metadata": {},
   "outputs": [],
   "source": [
    "answers['E12.02'] = \"5307\""
   ]
  },
  {
   "cell_type": "markdown",
   "metadata": {},
   "source": [
    "### E12.03\n",
    "\n",
    "How many hospitals from Missouri (state abbreviation MO) are in this file?"
   ]
  },
  {
   "cell_type": "code",
   "execution_count": 12,
   "metadata": {},
   "outputs": [
    {
     "data": {
      "text/plain": [
       "TX    457\n",
       "CA    372\n",
       "FL    208\n",
       "OH    195\n",
       "IL    190\n",
       "NY    184\n",
       "PA    183\n",
       "LA    158\n",
       "GA    147\n",
       "IN    146\n",
       "MI    143\n",
       "WI    138\n",
       "KS    138\n",
       "MN    136\n",
       "OK    131\n",
       "MO    119\n",
       "TN    118\n",
       "NC    117\n",
       "IA    117\n",
       "MS    103\n",
       "WA    102\n",
       "KY    101\n",
       "AZ    100\n",
       "AL     98\n",
       "VA     93\n",
       "CO     93\n",
       "NE     91\n",
       "AR     86\n",
       "NJ     79\n",
       "MA     79\n",
       "SC     67\n",
       "MT     63\n",
       "OR     62\n",
       "SD     59\n",
       "PR     58\n",
       "MD     55\n",
       "UT     52\n",
       "WV     50\n",
       "ID     47\n",
       "NM     47\n",
       "NV     46\n",
       "ND     46\n",
       "ME     37\n",
       "CT     36\n",
       "NH     28\n",
       "WY     27\n",
       "HI     25\n",
       "AK     25\n",
       "VT     16\n",
       "RI     12\n",
       "DE     12\n",
       "DC      9\n",
       "VI      2\n",
       "GU      2\n",
       "AS      1\n",
       "MP      1\n",
       "Name: State, dtype: int64"
      ]
     },
     "execution_count": 12,
     "metadata": {},
     "output_type": "execute_result"
    }
   ],
   "source": [
    "df['State'].value_counts()"
   ]
  },
  {
   "cell_type": "code",
   "execution_count": 13,
   "metadata": {},
   "outputs": [],
   "source": [
    "answers['E12.03'] = \"119\""
   ]
  },
  {
   "cell_type": "markdown",
   "metadata": {},
   "source": [
    "### E12.04\n",
    "\n",
    "How many different ZIP Codes from Misouri are represented in this file?"
   ]
  },
  {
   "cell_type": "code",
   "execution_count": 77,
   "metadata": {},
   "outputs": [
    {
     "data": {
      "text/html": [
       "<div>\n",
       "<style scoped>\n",
       "    .dataframe tbody tr th:only-of-type {\n",
       "        vertical-align: middle;\n",
       "    }\n",
       "\n",
       "    .dataframe tbody tr th {\n",
       "        vertical-align: top;\n",
       "    }\n",
       "\n",
       "    .dataframe thead th {\n",
       "        text-align: right;\n",
       "    }\n",
       "</style>\n",
       "<table border=\"1\" class=\"dataframe\">\n",
       "  <thead>\n",
       "    <tr style=\"text-align: right;\">\n",
       "      <th></th>\n",
       "      <th>Facility ID</th>\n",
       "      <th>Facility Name</th>\n",
       "      <th>Address</th>\n",
       "      <th>City</th>\n",
       "      <th>State</th>\n",
       "      <th>ZIP Code</th>\n",
       "      <th>County Name</th>\n",
       "      <th>Phone Number</th>\n",
       "      <th>Hospital Type</th>\n",
       "      <th>Hospital Ownership</th>\n",
       "      <th>...</th>\n",
       "      <th>Count of READM Measures Better</th>\n",
       "      <th>Count of READM Measures No Different</th>\n",
       "      <th>Count of READM Measures Worse</th>\n",
       "      <th>READM Group Footnote</th>\n",
       "      <th>Pt Exp Group Measure Count</th>\n",
       "      <th>Count of Facility Pt Exp Measures</th>\n",
       "      <th>Pt Exp Group Footnote</th>\n",
       "      <th>TE Group Measure Count</th>\n",
       "      <th>Count of Facility TE Measures</th>\n",
       "      <th>TE Group Footnote</th>\n",
       "    </tr>\n",
       "  </thead>\n",
       "  <tbody>\n",
       "    <tr>\n",
       "      <th>2661</th>\n",
       "      <td>260001</td>\n",
       "      <td>MERCY HOSPITAL JOPLIN</td>\n",
       "      <td>100 MERCY WAY</td>\n",
       "      <td>JOPLIN</td>\n",
       "      <td>MO</td>\n",
       "      <td>64804</td>\n",
       "      <td>JASPER</td>\n",
       "      <td>(417) 781-2727</td>\n",
       "      <td>Acute Care Hospitals</td>\n",
       "      <td>Voluntary non-profit - Church</td>\n",
       "      <td>...</td>\n",
       "      <td>0</td>\n",
       "      <td>6</td>\n",
       "      <td>4</td>\n",
       "      <td>NaN</td>\n",
       "      <td>8</td>\n",
       "      <td>8</td>\n",
       "      <td>NaN</td>\n",
       "      <td>12</td>\n",
       "      <td>10</td>\n",
       "      <td>NaN</td>\n",
       "    </tr>\n",
       "    <tr>\n",
       "      <th>2662</th>\n",
       "      <td>260005</td>\n",
       "      <td>SSM ST JOSEPH HEALTH CENTER</td>\n",
       "      <td>300 1ST CAPITOL DR</td>\n",
       "      <td>SAINT CHARLES</td>\n",
       "      <td>MO</td>\n",
       "      <td>63301</td>\n",
       "      <td>ST. CHARLES</td>\n",
       "      <td>(636) 947-5000</td>\n",
       "      <td>Acute Care Hospitals</td>\n",
       "      <td>Voluntary non-profit - Private</td>\n",
       "      <td>...</td>\n",
       "      <td>1</td>\n",
       "      <td>8</td>\n",
       "      <td>0</td>\n",
       "      <td>NaN</td>\n",
       "      <td>8</td>\n",
       "      <td>8</td>\n",
       "      <td>NaN</td>\n",
       "      <td>12</td>\n",
       "      <td>7</td>\n",
       "      <td>NaN</td>\n",
       "    </tr>\n",
       "    <tr>\n",
       "      <th>2663</th>\n",
       "      <td>260006</td>\n",
       "      <td>MOSAIC LIFE CARE AT ST JOSEPH</td>\n",
       "      <td>5325 FARAON STREET</td>\n",
       "      <td>SAINT JOSEPH</td>\n",
       "      <td>MO</td>\n",
       "      <td>64506</td>\n",
       "      <td>BUCHANAN</td>\n",
       "      <td>(816) 271-6000</td>\n",
       "      <td>Acute Care Hospitals</td>\n",
       "      <td>Voluntary non-profit - Private</td>\n",
       "      <td>...</td>\n",
       "      <td>0</td>\n",
       "      <td>9</td>\n",
       "      <td>2</td>\n",
       "      <td>NaN</td>\n",
       "      <td>8</td>\n",
       "      <td>8</td>\n",
       "      <td>NaN</td>\n",
       "      <td>12</td>\n",
       "      <td>10</td>\n",
       "      <td>NaN</td>\n",
       "    </tr>\n",
       "    <tr>\n",
       "      <th>2664</th>\n",
       "      <td>260009</td>\n",
       "      <td>BOTHWELL REGIONAL HEALTH CENTER</td>\n",
       "      <td>601 E 14TH ST</td>\n",
       "      <td>SEDALIA</td>\n",
       "      <td>MO</td>\n",
       "      <td>65302</td>\n",
       "      <td>PETTIS</td>\n",
       "      <td>(660) 826-8833</td>\n",
       "      <td>Acute Care Hospitals</td>\n",
       "      <td>Government - Local</td>\n",
       "      <td>...</td>\n",
       "      <td>0</td>\n",
       "      <td>8</td>\n",
       "      <td>2</td>\n",
       "      <td>NaN</td>\n",
       "      <td>8</td>\n",
       "      <td>8</td>\n",
       "      <td>NaN</td>\n",
       "      <td>12</td>\n",
       "      <td>9</td>\n",
       "      <td>NaN</td>\n",
       "    </tr>\n",
       "    <tr>\n",
       "      <th>2665</th>\n",
       "      <td>260011</td>\n",
       "      <td>SSM HEALTH ST MARY'S HOSPITAL JEFFERSON CITY</td>\n",
       "      <td>2505 MISSION DRIVE</td>\n",
       "      <td>JEFFERSON CITY</td>\n",
       "      <td>MO</td>\n",
       "      <td>65109</td>\n",
       "      <td>COLE</td>\n",
       "      <td>(573) 681-3000</td>\n",
       "      <td>Acute Care Hospitals</td>\n",
       "      <td>Proprietary</td>\n",
       "      <td>...</td>\n",
       "      <td>0</td>\n",
       "      <td>7</td>\n",
       "      <td>2</td>\n",
       "      <td>NaN</td>\n",
       "      <td>8</td>\n",
       "      <td>8</td>\n",
       "      <td>NaN</td>\n",
       "      <td>12</td>\n",
       "      <td>8</td>\n",
       "      <td>NaN</td>\n",
       "    </tr>\n",
       "    <tr>\n",
       "      <th>...</th>\n",
       "      <td>...</td>\n",
       "      <td>...</td>\n",
       "      <td>...</td>\n",
       "      <td>...</td>\n",
       "      <td>...</td>\n",
       "      <td>...</td>\n",
       "      <td>...</td>\n",
       "      <td>...</td>\n",
       "      <td>...</td>\n",
       "      <td>...</td>\n",
       "      <td>...</td>\n",
       "      <td>...</td>\n",
       "      <td>...</td>\n",
       "      <td>...</td>\n",
       "      <td>...</td>\n",
       "      <td>...</td>\n",
       "      <td>...</td>\n",
       "      <td>...</td>\n",
       "      <td>...</td>\n",
       "      <td>...</td>\n",
       "      <td>...</td>\n",
       "    </tr>\n",
       "    <tr>\n",
       "      <th>2773</th>\n",
       "      <td>264012</td>\n",
       "      <td>CENTERPOINTE HOSPITAL</td>\n",
       "      <td>4801 WELDON SPRING PARKWAY</td>\n",
       "      <td>SAINT CHARLES</td>\n",
       "      <td>MO</td>\n",
       "      <td>63304</td>\n",
       "      <td>ST. CHARLES</td>\n",
       "      <td>(636) 441-7300</td>\n",
       "      <td>Psychiatric</td>\n",
       "      <td>Proprietary</td>\n",
       "      <td>...</td>\n",
       "      <td>Not Available</td>\n",
       "      <td>Not Available</td>\n",
       "      <td>Not Available</td>\n",
       "      <td>19</td>\n",
       "      <td>Not Available</td>\n",
       "      <td>Not Available</td>\n",
       "      <td>19</td>\n",
       "      <td>Not Available</td>\n",
       "      <td>Not Available</td>\n",
       "      <td>19</td>\n",
       "    </tr>\n",
       "    <tr>\n",
       "      <th>2774</th>\n",
       "      <td>264020</td>\n",
       "      <td>ROYAL OAKS HOSPITAL</td>\n",
       "      <td>307 N MAIN</td>\n",
       "      <td>WINDSOR</td>\n",
       "      <td>MO</td>\n",
       "      <td>65360</td>\n",
       "      <td>HENRY</td>\n",
       "      <td>(660) 647-2182</td>\n",
       "      <td>Psychiatric</td>\n",
       "      <td>Voluntary non-profit - Private</td>\n",
       "      <td>...</td>\n",
       "      <td>Not Available</td>\n",
       "      <td>Not Available</td>\n",
       "      <td>Not Available</td>\n",
       "      <td>19</td>\n",
       "      <td>Not Available</td>\n",
       "      <td>Not Available</td>\n",
       "      <td>19</td>\n",
       "      <td>Not Available</td>\n",
       "      <td>Not Available</td>\n",
       "      <td>19</td>\n",
       "    </tr>\n",
       "    <tr>\n",
       "      <th>2775</th>\n",
       "      <td>264024</td>\n",
       "      <td>LAKELAND BEHAVIORAL HEALTH SYSTEM</td>\n",
       "      <td>440 S MARKET</td>\n",
       "      <td>SPRINGFIELD</td>\n",
       "      <td>MO</td>\n",
       "      <td>65806</td>\n",
       "      <td>GREENE</td>\n",
       "      <td>(417) 865-5581</td>\n",
       "      <td>Psychiatric</td>\n",
       "      <td>Proprietary</td>\n",
       "      <td>...</td>\n",
       "      <td>Not Available</td>\n",
       "      <td>Not Available</td>\n",
       "      <td>Not Available</td>\n",
       "      <td>19</td>\n",
       "      <td>Not Available</td>\n",
       "      <td>Not Available</td>\n",
       "      <td>19</td>\n",
       "      <td>Not Available</td>\n",
       "      <td>Not Available</td>\n",
       "      <td>19</td>\n",
       "    </tr>\n",
       "    <tr>\n",
       "      <th>2778</th>\n",
       "      <td>264032</td>\n",
       "      <td>CENTERPOINTE HOSPITAL OF COLUMBIA</td>\n",
       "      <td>1201 INTERNATIONAL DRIVE</td>\n",
       "      <td>COLUMBIA</td>\n",
       "      <td>MO</td>\n",
       "      <td>65202</td>\n",
       "      <td>BOONE</td>\n",
       "      <td>(855) 623-7016</td>\n",
       "      <td>Psychiatric</td>\n",
       "      <td>Proprietary</td>\n",
       "      <td>...</td>\n",
       "      <td>Not Available</td>\n",
       "      <td>Not Available</td>\n",
       "      <td>Not Available</td>\n",
       "      <td>19</td>\n",
       "      <td>Not Available</td>\n",
       "      <td>Not Available</td>\n",
       "      <td>19</td>\n",
       "      <td>Not Available</td>\n",
       "      <td>Not Available</td>\n",
       "      <td>19</td>\n",
       "    </tr>\n",
       "    <tr>\n",
       "      <th>2779</th>\n",
       "      <td>264033</td>\n",
       "      <td>PERIMETER BEHAVIORAL HOSPITAL OF SPRINGFIELD</td>\n",
       "      <td>2828 N NATIONAL</td>\n",
       "      <td>SPRINGFIELD</td>\n",
       "      <td>MO</td>\n",
       "      <td>65803</td>\n",
       "      <td>GREENE</td>\n",
       "      <td>(417) 837-4000</td>\n",
       "      <td>Psychiatric</td>\n",
       "      <td>Proprietary</td>\n",
       "      <td>...</td>\n",
       "      <td>Not Available</td>\n",
       "      <td>Not Available</td>\n",
       "      <td>Not Available</td>\n",
       "      <td>19</td>\n",
       "      <td>Not Available</td>\n",
       "      <td>Not Available</td>\n",
       "      <td>19</td>\n",
       "      <td>Not Available</td>\n",
       "      <td>Not Available</td>\n",
       "      <td>19</td>\n",
       "    </tr>\n",
       "  </tbody>\n",
       "</table>\n",
       "<p>109 rows × 38 columns</p>\n",
       "</div>"
      ],
      "text/plain": [
       "     Facility ID                                 Facility Name  \\\n",
       "2661      260001                         MERCY HOSPITAL JOPLIN   \n",
       "2662      260005                   SSM ST JOSEPH HEALTH CENTER   \n",
       "2663      260006                 MOSAIC LIFE CARE AT ST JOSEPH   \n",
       "2664      260009               BOTHWELL REGIONAL HEALTH CENTER   \n",
       "2665      260011  SSM HEALTH ST MARY'S HOSPITAL JEFFERSON CITY   \n",
       "...          ...                                           ...   \n",
       "2773      264012                         CENTERPOINTE HOSPITAL   \n",
       "2774      264020                           ROYAL OAKS HOSPITAL   \n",
       "2775      264024             LAKELAND BEHAVIORAL HEALTH SYSTEM   \n",
       "2778      264032             CENTERPOINTE HOSPITAL OF COLUMBIA   \n",
       "2779      264033  PERIMETER BEHAVIORAL HOSPITAL OF SPRINGFIELD   \n",
       "\n",
       "                         Address            City State  ZIP Code  County Name  \\\n",
       "2661               100 MERCY WAY          JOPLIN    MO     64804       JASPER   \n",
       "2662          300 1ST CAPITOL DR   SAINT CHARLES    MO     63301  ST. CHARLES   \n",
       "2663          5325 FARAON STREET    SAINT JOSEPH    MO     64506     BUCHANAN   \n",
       "2664               601 E 14TH ST         SEDALIA    MO     65302       PETTIS   \n",
       "2665          2505 MISSION DRIVE  JEFFERSON CITY    MO     65109         COLE   \n",
       "...                          ...             ...   ...       ...          ...   \n",
       "2773  4801 WELDON SPRING PARKWAY   SAINT CHARLES    MO     63304  ST. CHARLES   \n",
       "2774                  307 N MAIN         WINDSOR    MO     65360        HENRY   \n",
       "2775                440 S MARKET     SPRINGFIELD    MO     65806       GREENE   \n",
       "2778    1201 INTERNATIONAL DRIVE        COLUMBIA    MO     65202        BOONE   \n",
       "2779             2828 N NATIONAL     SPRINGFIELD    MO     65803       GREENE   \n",
       "\n",
       "        Phone Number         Hospital Type              Hospital Ownership  \\\n",
       "2661  (417) 781-2727  Acute Care Hospitals   Voluntary non-profit - Church   \n",
       "2662  (636) 947-5000  Acute Care Hospitals  Voluntary non-profit - Private   \n",
       "2663  (816) 271-6000  Acute Care Hospitals  Voluntary non-profit - Private   \n",
       "2664  (660) 826-8833  Acute Care Hospitals              Government - Local   \n",
       "2665  (573) 681-3000  Acute Care Hospitals                     Proprietary   \n",
       "...              ...                   ...                             ...   \n",
       "2773  (636) 441-7300           Psychiatric                     Proprietary   \n",
       "2774  (660) 647-2182           Psychiatric  Voluntary non-profit - Private   \n",
       "2775  (417) 865-5581           Psychiatric                     Proprietary   \n",
       "2778  (855) 623-7016           Psychiatric                     Proprietary   \n",
       "2779  (417) 837-4000           Psychiatric                     Proprietary   \n",
       "\n",
       "      ... Count of READM Measures Better Count of READM Measures No Different  \\\n",
       "2661  ...                              0                                    6   \n",
       "2662  ...                              1                                    8   \n",
       "2663  ...                              0                                    9   \n",
       "2664  ...                              0                                    8   \n",
       "2665  ...                              0                                    7   \n",
       "...   ...                            ...                                  ...   \n",
       "2773  ...                  Not Available                        Not Available   \n",
       "2774  ...                  Not Available                        Not Available   \n",
       "2775  ...                  Not Available                        Not Available   \n",
       "2778  ...                  Not Available                        Not Available   \n",
       "2779  ...                  Not Available                        Not Available   \n",
       "\n",
       "     Count of READM Measures Worse READM Group Footnote  \\\n",
       "2661                             4                  NaN   \n",
       "2662                             0                  NaN   \n",
       "2663                             2                  NaN   \n",
       "2664                             2                  NaN   \n",
       "2665                             2                  NaN   \n",
       "...                            ...                  ...   \n",
       "2773                 Not Available                   19   \n",
       "2774                 Not Available                   19   \n",
       "2775                 Not Available                   19   \n",
       "2778                 Not Available                   19   \n",
       "2779                 Not Available                   19   \n",
       "\n",
       "     Pt Exp Group Measure Count Count of Facility Pt Exp Measures  \\\n",
       "2661                          8                                 8   \n",
       "2662                          8                                 8   \n",
       "2663                          8                                 8   \n",
       "2664                          8                                 8   \n",
       "2665                          8                                 8   \n",
       "...                         ...                               ...   \n",
       "2773              Not Available                     Not Available   \n",
       "2774              Not Available                     Not Available   \n",
       "2775              Not Available                     Not Available   \n",
       "2778              Not Available                     Not Available   \n",
       "2779              Not Available                     Not Available   \n",
       "\n",
       "     Pt Exp Group Footnote TE Group Measure Count  \\\n",
       "2661                   NaN                     12   \n",
       "2662                   NaN                     12   \n",
       "2663                   NaN                     12   \n",
       "2664                   NaN                     12   \n",
       "2665                   NaN                     12   \n",
       "...                    ...                    ...   \n",
       "2773                    19          Not Available   \n",
       "2774                    19          Not Available   \n",
       "2775                    19          Not Available   \n",
       "2778                    19          Not Available   \n",
       "2779                    19          Not Available   \n",
       "\n",
       "     Count of Facility TE Measures TE Group Footnote  \n",
       "2661                            10               NaN  \n",
       "2662                             7               NaN  \n",
       "2663                            10               NaN  \n",
       "2664                             9               NaN  \n",
       "2665                             8               NaN  \n",
       "...                            ...               ...  \n",
       "2773                 Not Available                19  \n",
       "2774                 Not Available                19  \n",
       "2775                 Not Available                19  \n",
       "2778                 Not Available                19  \n",
       "2779                 Not Available                19  \n",
       "\n",
       "[109 rows x 38 columns]"
      ]
     },
     "execution_count": 77,
     "metadata": {},
     "output_type": "execute_result"
    }
   ],
   "source": [
    "df.loc[(df['State']=='MO')].drop_duplicates(\"ZIP Code\")\n"
   ]
  },
  {
   "cell_type": "code",
   "execution_count": 78,
   "metadata": {},
   "outputs": [],
   "source": [
    "answers['E12.04'] = \"109\""
   ]
  },
  {
   "cell_type": "markdown",
   "metadata": {},
   "source": [
    "### E12.05\n",
    "\n",
    "Which of those ZIP Codes has the most hospitals?  If it's a tie, submit your answer as a list of ZIP Codes.  Make sure your answer is submitted as a string or list of strings. Do not submit the ZIP Code values as numbers.\n"
   ]
  },
  {
   "cell_type": "code",
   "execution_count": 79,
   "metadata": {},
   "outputs": [
    {
     "data": {
      "text/plain": [
       "76104    5\n",
       "99508    5\n",
       "75093    5\n",
       "77030    5\n",
       "83221    4\n",
       "        ..\n",
       "58545    1\n",
       "60623    1\n",
       "91342    1\n",
       "81101    1\n",
       "65536    1\n",
       "Name: ZIP Code, Length: 4674, dtype: int64"
      ]
     },
     "execution_count": 79,
     "metadata": {},
     "output_type": "execute_result"
    }
   ],
   "source": [
    "df[\"ZIP Code\"].value_counts()"
   ]
  },
  {
   "cell_type": "code",
   "execution_count": 104,
   "metadata": {},
   "outputs": [],
   "source": [
    "answers['E12.05'] = [\"77030\", \"75093\", \"99508\", \"76104\"]"
   ]
  },
  {
   "cell_type": "markdown",
   "metadata": {},
   "source": [
    "### E12.06\n",
    "\n",
    "Which state has the most hospitals?"
   ]
  },
  {
   "cell_type": "code",
   "execution_count": 105,
   "metadata": {},
   "outputs": [
    {
     "data": {
      "text/plain": [
       "TX    457\n",
       "CA    372\n",
       "FL    208\n",
       "OH    195\n",
       "IL    190\n",
       "NY    184\n",
       "PA    183\n",
       "LA    158\n",
       "GA    147\n",
       "IN    146\n",
       "MI    143\n",
       "WI    138\n",
       "KS    138\n",
       "MN    136\n",
       "OK    131\n",
       "MO    119\n",
       "TN    118\n",
       "NC    117\n",
       "IA    117\n",
       "MS    103\n",
       "WA    102\n",
       "KY    101\n",
       "AZ    100\n",
       "AL     98\n",
       "VA     93\n",
       "CO     93\n",
       "NE     91\n",
       "AR     86\n",
       "NJ     79\n",
       "MA     79\n",
       "SC     67\n",
       "MT     63\n",
       "OR     62\n",
       "SD     59\n",
       "PR     58\n",
       "MD     55\n",
       "UT     52\n",
       "WV     50\n",
       "ID     47\n",
       "NM     47\n",
       "NV     46\n",
       "ND     46\n",
       "ME     37\n",
       "CT     36\n",
       "NH     28\n",
       "WY     27\n",
       "HI     25\n",
       "AK     25\n",
       "VT     16\n",
       "RI     12\n",
       "DE     12\n",
       "DC      9\n",
       "VI      2\n",
       "GU      2\n",
       "AS      1\n",
       "MP      1\n",
       "Name: State, dtype: int64"
      ]
     },
     "execution_count": 105,
     "metadata": {},
     "output_type": "execute_result"
    }
   ],
   "source": [
    "df['State'].value_counts()"
   ]
  },
  {
   "cell_type": "code",
   "execution_count": 106,
   "metadata": {},
   "outputs": [],
   "source": [
    "answers['E12.06'] = \"TX\""
   ]
  },
  {
   "cell_type": "markdown",
   "metadata": {},
   "source": [
    "### E12.07\n",
    "\n",
    "How many different Hospital Types are there in this file?"
   ]
  },
  {
   "cell_type": "code",
   "execution_count": 107,
   "metadata": {},
   "outputs": [
    {
     "data": {
      "text/plain": [
       "array(['Acute Care Hospitals', 'Critical Access Hospitals', 'Childrens',\n",
       "       'Psychiatric', 'Acute Care - Department of Defense'], dtype=object)"
      ]
     },
     "execution_count": 107,
     "metadata": {},
     "output_type": "execute_result"
    }
   ],
   "source": [
    "df['Hospital Type'].unique()"
   ]
  },
  {
   "cell_type": "code",
   "execution_count": 108,
   "metadata": {},
   "outputs": [],
   "source": [
    "answers['E12.07'] = \"5\""
   ]
  },
  {
   "cell_type": "markdown",
   "metadata": {},
   "source": [
    "### E12.08\n",
    "\n",
    "Which Hospital Type has the greatest number of files?"
   ]
  },
  {
   "cell_type": "code",
   "execution_count": 109,
   "metadata": {},
   "outputs": [
    {
     "data": {
      "text/plain": [
       "Acute Care Hospitals                  3223\n",
       "Critical Access Hospitals             1359\n",
       "Psychiatric                            599\n",
       "Childrens                               91\n",
       "Acute Care - Department of Defense      35\n",
       "Name: Hospital Type, dtype: int64"
      ]
     },
     "execution_count": 109,
     "metadata": {},
     "output_type": "execute_result"
    }
   ],
   "source": [
    "df['Hospital Type'].value_counts()"
   ]
  },
  {
   "cell_type": "code",
   "execution_count": 110,
   "metadata": {},
   "outputs": [],
   "source": [
    "answers['E12.08'] = \"Acute Care Hospitals\""
   ]
  },
  {
   "cell_type": "markdown",
   "metadata": {},
   "source": [
    "### E12.09\n",
    "\n",
    "What percent of the total hospital count (represented as ##.##%, rounded to two decimal places) is represented in that Hospital Type?"
   ]
  },
  {
   "cell_type": "code",
   "execution_count": 116,
   "metadata": {},
   "outputs": [
    {
     "data": {
      "text/plain": [
       "Acute Care Hospitals                  60.73%\n",
       "Critical Access Hospitals             25.61%\n",
       "Psychiatric                           11.29%\n",
       "Childrens                              1.71%\n",
       "Acute Care - Department of Defense     0.66%\n",
       "Name: Hospital Type, dtype: object"
      ]
     },
     "execution_count": 116,
     "metadata": {},
     "output_type": "execute_result"
    }
   ],
   "source": [
    "df['Hospital Type'].value_counts(normalize = True).mul(100).round(2).astype(str) + \"%\""
   ]
  },
  {
   "cell_type": "code",
   "execution_count": 112,
   "metadata": {},
   "outputs": [],
   "source": [
    "answers['E12.09'] = \"60.73\""
   ]
  },
  {
   "cell_type": "markdown",
   "metadata": {},
   "source": [
    "### E12.10\n",
    "\n",
    "What percent of the total hospital count (represented as ##.##%, rounded to two decimal places) provide Emergency Services?"
   ]
  },
  {
   "cell_type": "code",
   "execution_count": 113,
   "metadata": {},
   "outputs": [
    {
     "data": {
      "text/plain": [
       "Yes    83.89%\n",
       "No     16.11%\n",
       "Name: Emergency Services, dtype: object"
      ]
     },
     "execution_count": 113,
     "metadata": {},
     "output_type": "execute_result"
    }
   ],
   "source": [
    "df['Emergency Services'].value_counts(normalize = True).mul(100).round(2).astype(str) + \"%\""
   ]
  },
  {
   "cell_type": "code",
   "execution_count": 114,
   "metadata": {},
   "outputs": [],
   "source": [
    "answers['E12.10'] = \"83.89\""
   ]
  },
  {
   "cell_type": "markdown",
   "metadata": {},
   "source": [
    "---\n",
    "\n",
    "Checking Your Work\n",
    "---\n",
    "\n",
    "After completing your work above and running each cell, you can check your answers by running the code below. \n",
    "\n",
    "The easiest way to do this is to use the `Kernel` -> `Restart Kernel and Run All Cells` menu option. This option restarts Python and runs every cell from top to bottom until it encounters an exception of some kind.  It will stop after running the cell below and outputing a summary of how many answers you have correct or incorrect.\n"
   ]
  },
  {
   "cell_type": "code",
   "execution_count": 115,
   "metadata": {
    "jupyter": {
     "source_hidden": true
    }
   },
   "outputs": [
    {
     "name": "stdout",
     "output_type": "stream",
     "text": [
      "     Q#                         Yours  Correct?\n",
      " E12.01                            38        OK\n",
      " E12.02                          5307        OK\n",
      " E12.03                           119        OK\n",
      " E12.04                           109        OK\n",
      " E12.05['77030', '75093', '99508', '76104']        NO\n",
      " E12.06                            TX        OK\n",
      " E12.07                             5        OK\n",
      " E12.08          Acute Care Hospitals        OK\n",
      " E12.09                         60.73        OK\n",
      " E12.10                         83.89        OK\n"
     ]
    }
   ],
   "source": [
    "import getpass\n",
    "import boto3\n",
    "import json\n",
    "\n",
    "test = {\n",
    "    \"user\": getpass.getuser(),\n",
    "    \"week\": \"week12EB\",\n",
    "    \"answers\": answers\n",
    "}\n",
    "\n",
    "client = boto3.client('lambda')\n",
    "\n",
    "response = client.invoke(\n",
    "    FunctionName=\"hds5210\",\n",
    "    InvocationType=\"RequestResponse\",\n",
    "    Payload=json.dumps(test))\n",
    "\n",
    "result = json.loads(response['Payload'].read().decode('utf-8'))\n",
    "# print(result)\n",
    "\n",
    "try:\n",
    "    print('{0:>7}{1:>30}{2:>10}'.format('Q#','Yours','Correct?'))\n",
    "    for row in result.get('results'):\n",
    "        print('{0:>7}{1:>30}{2:>10}'.format(str(row[0]),str(row[1]),str(row[2])))\n",
    "except:\n",
    "    print(result)"
   ]
  },
  {
   "cell_type": "markdown",
   "metadata": {},
   "source": [
    "## Submit your work to github in your week 13 folder by 12/5 11:59 PM"
   ]
  },
  {
   "cell_type": "code",
   "execution_count": null,
   "metadata": {},
   "outputs": [],
   "source": []
  },
  {
   "cell_type": "code",
   "execution_count": null,
   "metadata": {},
   "outputs": [],
   "source": []
  }
 ],
 "metadata": {
  "kernelspec": {
   "display_name": "Python 3",
   "language": "python",
   "name": "python3"
  },
  "language_info": {
   "codemirror_mode": {
    "name": "ipython",
    "version": 3
   },
   "file_extension": ".py",
   "mimetype": "text/x-python",
   "name": "python",
   "nbconvert_exporter": "python",
   "pygments_lexer": "ipython3",
   "version": "3.6.7"
  }
 },
 "nbformat": 4,
 "nbformat_minor": 4
}
