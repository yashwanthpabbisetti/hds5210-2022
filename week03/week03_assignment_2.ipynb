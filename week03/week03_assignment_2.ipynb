{
 "cells": [
  {
   "cell_type": "markdown",
   "metadata": {
    "nbgrader": {
     "grade": false,
     "grade_id": "intro",
     "locked": true,
     "schema_version": 1,
     "solution": false
    }
   },
   "source": [
    "# Week 3 Exercises\n",
    "\n",
    "See: _McKinney 2.3_ and [Python Documentation](https://docs.python.org/3/tutorial/controlflow.html) section 4 on flow control.\n",
    "\n",
    "\n",
    "**At the begining of the semester, all of the workshop programming exercises will be structured a specific way to make it easier to verify for yourself that you're on the right track as well as easier for me to do a first pass on automated grading.  The structure of each question will require you to write a function using Python code. Don't worry that we haven't talked about functions yet. Just edit the code between** `### BEGIN SOLUTION` and `### END SOLUTION` **as shown in the example below.**\n"
   ]
  },
  {
   "cell_type": "markdown",
   "metadata": {},
   "source": [
    "**WHAT I PROVIDE:**\n",
    "```\n",
    "def some_function(parameter1, parameter2):\n",
    "\n",
    "   ### BEGIN SOLUTION\n",
    "   x = -1\n",
    "   ### END SOLUTION\n",
    "   \n",
    "   return x\n",
    "```\n",
    "\n",
    "**WHAT YOU SHOULD DO:** Just change the parameter names (if you feel you need to) and the calculations between `### BEGIN SOLUTION` and `### END SOLUTION`.  This is just a made up example.\n",
    "```\n",
    "def some_function(a, b):\n",
    "\n",
    "   ### BEGIN SOLUTION\n",
    "   temp = a + b\n",
    "   x = temp / a * b\n",
    "   ### END SOLUTION\n",
    "   \n",
    "   return x\n",
    "```\n"
   ]
  },
  {
   "cell_type": "markdown",
   "metadata": {},
   "source": [
    "---\n",
    "---\n",
    "\n",
    "**Below each programming exercise are some tests (`assertions`) that verify your code is working correctly.  If any assertions fail, you know that something isnt' right with your code, but having all assertions pass doesn't necessarily mean your code is perfect, yet. You should also create your own tests to make sure your code is correct.**\n",
    "\n",
    "**For now, please don't change any function names**"
   ]
  },
  {
   "cell_type": "markdown",
   "metadata": {},
   "source": [
    "### 14.1 Difference in rate per 1,000\n",
    "\n",
    "Often in public health, we report metrics as a number per 1,000 or per 1,000,000 in population. The purpose of that is to normalize the numbers between area of larger and smaller populations.\n",
    "\n",
    "Below, we have a function already built to calculate teh different in rate per 1,000 in two different regions.  The function normalizes them and then prints out a message describing their difference."
   ]
  },
  {
   "cell_type": "code",
   "execution_count": 1,
   "metadata": {},
   "outputs": [],
   "source": [
    "def diff_in_rate_normalized(count_a, total_a, count_b, total_b):\n",
    "    \"\"\"(int,int,int,int) -> str\n",
    "    * count_a is the number of occurences in area A\n",
    "    * total_a is the total population in area A\n",
    "    * count_b is the number of occurences in area B\n",
    "    * total_b is the total population in area B\n",
    "    \n",
    "    This function returns a string describing how A and B compare in terms of occurence rates per 1,000 population.\"\"\"\n",
    "\n",
    "    rate_a = count_a / total_a * 1000\n",
    "    rate_b = count_b / total_b * 1000\n",
    "    \n",
    "    if rate_a == rate_b:\n",
    "        msg = \"The rate in A and the rate in B are the same ({}).\".format(rate_a)\n",
    "    elif rate_a > rate_b:\n",
    "        msg = \"The rate in A ({}) is greater than the rate in B ({}).\".format(rate_a, rate_b)\n",
    "    else:\n",
    "        msg = \"The rate in A ({}) is less than the rate in B ({})\".format(rate_a, rate_b)\n",
    "        \n",
    "    return msg"
   ]
  },
  {
   "cell_type": "code",
   "execution_count": 2,
   "metadata": {},
   "outputs": [
    {
     "name": "stdout",
     "output_type": "stream",
     "text": [
      "The rate in A (1.0) is less than the rate in B (1.5)\n"
     ]
    }
   ],
   "source": [
    "rate_covid_testing = diff_in_rate_normalized(1,1000,15,10000)\n",
    "print(rate_covid_testing)"
   ]
  },
  {
   "cell_type": "code",
   "execution_count": 3,
   "metadata": {},
   "outputs": [
    {
     "data": {
      "text/plain": [
       "'The rate in A and the rate in B are the same (3.0).'"
      ]
     },
     "execution_count": 3,
     "metadata": {},
     "output_type": "execute_result"
    }
   ],
   "source": [
    "diff_in_rate_normalized(3,1000,30,10000)"
   ]
  },
  {
   "cell_type": "markdown",
   "metadata": {},
   "source": [
    "### 14.2 Trimming outliers\n",
    "\n",
    "While it works well in most cases, in practice, this may not truly make numbers comparable between extremely large population centers (e.g. New York City at 8.5 million) and very small rural areas (e.g. Meeteese, WY at 459 people).\n",
    "\n",
    "Let's take that function and make some adjustments.  If the total population of either A or B is more than 100 times larger than the other, then we want to return a different message.  That is, if the populations are more than two orders of magnitude different, then we shouldn't try to compare them."
   ]
  },
  {
   "cell_type": "code",
   "execution_count": 4,
   "metadata": {},
   "outputs": [],
   "source": [
    "def diff_in_rate_normalized(count_a, total_a, count_b, total_b):\n",
    "    \"\"\"(int,int,int,int) -> str\n",
    "    * count_a is the number of occurences in area A\n",
    "    * total_a is the total population in area A\n",
    "    * count_b is the number of occurences in area B\n",
    "    * total_b is the total population in area B\n",
    "    \n",
    "    This function returns a string describing how A and B compare in terms of occurence rates per 1,000 population.\n",
    "    \n",
    "    If total_a / total_b > 100 OR total_b / total_a > 100 then we'll return a message saying the two can't be compared.\n",
    "    \"The total populations in A and B are so different that they can't be compared.\"\n",
    "    \"\"\"\n",
    "    \n",
    "    msg = \"\"\n",
    "    \n",
    "    if ((total_a / total_b) > 100) or ((total_b / total_a) > 100):\n",
    "        msg = \"The total populations in A and B are so different that they can't be compared.\"\n",
    "    else:\n",
    "        rate_a = count_a / total_a * 1000\n",
    "        rate_b = count_b / total_b * 1000\n",
    "\n",
    "        if rate_a == rate_b:\n",
    "            msg = \"The rates in A and B are the same: {} per 1,000\".format(rate_a)\n",
    "        elif rate_a > rate_b:\n",
    "            msg = \"The rate in A ({})is greater than the rate in B ({}) per 1,000\".format(rate_a, rate_b)\n",
    "        else:\n",
    "            msg = \"The rate in A ({}) is less than the rate in B ({}) per 1,000\".format(rate_a, rate_b)\n",
    "        \n",
    "    return msg"
   ]
  },
  {
   "cell_type": "code",
   "execution_count": 5,
   "metadata": {},
   "outputs": [
    {
     "data": {
      "text/plain": [
       "'The rate in A (10.893246187363834)is greater than the rate in B (3.5294117647058827) per 1,000'"
      ]
     },
     "execution_count": 5,
     "metadata": {},
     "output_type": "execute_result"
    }
   ],
   "source": [
    "diff_in_rate_normalized(5, 459, 30, 8500)"
   ]
  },
  {
   "cell_type": "markdown",
   "metadata": {
    "nbgrader": {
     "grade": false,
     "grade_id": "bmi",
     "locked": true,
     "schema_version": 1,
     "solution": false
    }
   },
   "source": [
    "### 14.3 LACE Score\n",
    "There is a simple readmission index called the LACE Score: https://www.hindawi.com/journals/bmri/2015/169870/tab1/\n",
    "\n",
    "Use this documentation to create a function that can compute LACE scores based on the 4 input parameters.  Below is the function signature and documentation that you start with."
   ]
  },
  {
   "cell_type": "code",
   "execution_count": 146,
   "metadata": {
    "nbgrader": {
     "grade": false,
     "grade_id": "bmi-answer",
     "locked": false,
     "schema_version": 1,
     "solution": true
    }
   },
   "outputs": [],
   "source": [
    "def LACE(length_of_stay, acute_flag, charlson, ed_visits):\n",
    "    \n",
    "    \n",
    "    \"\"\"(int, bool, int, int) -> int\n",
    "    This function uses the logic from https://www.hindawi.com/journals/bmri/2015/169870/tab1/\n",
    "    to compute the LACE score for this patient.\n",
    "    \n",
    "    >>> LACE(4, False, 1, 0)\n",
    "    5\n",
    "    \n",
    "    >>> LACE(4, True, 4, 7)\n",
    "    16\n",
    "    \n",
    "    \"\"\"\n",
    "    score=0\n",
    "    if length_of_stay<0:\n",
    "        score=0\n",
    "    elif length_of_stay==1:\n",
    "        score=1\n",
    "    elif length_of_stay==2:\n",
    "        score=2\n",
    "    elif length_of_stay==3:\n",
    "        score=3\n",
    "    elif length_of_stay>=4 and length_of_stay<=6:\n",
    "        score=4\n",
    "    elif length_of_stay>=7 and length_of_stay<=13:\n",
    "        score=5\n",
    "    elif length_of_stay>=14:\n",
    "        score=7\n",
    "    if acute_flag==True:\n",
    "        score=score+3\n",
    "    if charlson==0:\n",
    "        score=score+0\n",
    "    elif charlson==1:\n",
    "        score=score+1\n",
    "    elif charlson==2:\n",
    "        score=score+2\n",
    "    elif charlson==3:\n",
    "        score=score+3\n",
    "    elif charlson>=4:\n",
    "        score=score+5\n",
    "    if ed_visits==0:\n",
    "        score=score+0\n",
    "    elif ed_visits==1:\n",
    "        score=score+1\n",
    "    elif ed_visits==2:\n",
    "        score=score+2\n",
    "    elif ed_visits==3:\n",
    "        score=score+3\n",
    "    elif ed_visits>=4:\n",
    "        score=score+4\n",
    "    return score"
   ]
  },
  {
   "cell_type": "code",
   "execution_count": 147,
   "metadata": {
    "nbgrader": {
     "grade": true,
     "grade_id": "bmi-test",
     "locked": true,
     "points": 10,
     "schema_version": 1,
     "solution": false
    }
   },
   "outputs": [],
   "source": [
    "assert LACE(4, False, 1, 0) == 5\n",
    "assert LACE(4, True, 4, 7) == 16"
   ]
  },
  {
   "cell_type": "code",
   "execution_count": 148,
   "metadata": {},
   "outputs": [
    {
     "data": {
      "text/plain": [
       "16"
      ]
     },
     "execution_count": 148,
     "metadata": {},
     "output_type": "execute_result"
    }
   ],
   "source": [
    "LACE(4, True, 4, 7)"
   ]
  },
  {
   "cell_type": "code",
   "execution_count": 169,
   "metadata": {
    "nbgrader": {
     "grade": false,
     "grade_id": "weight",
     "locked": true,
     "schema_version": 1,
     "solution": false
    }
   },
   "outputs": [
    {
     "ename": "SyntaxError",
     "evalue": "invalid syntax (<ipython-input-169-cc70405e0fab>, line 3)",
     "output_type": "error",
     "traceback": [
      "\u001b[0;36m  File \u001b[0;32m\"<ipython-input-169-cc70405e0fab>\"\u001b[0;36m, line \u001b[0;32m3\u001b[0m\n\u001b[0;31m    Care managers use LACE as part of the criteria for assigning a care coodinator to a patient who has been recently discharged. If the score is above 10, then a care coordinator will be assigned. The other criteria they use is if the patient has been discharged with a diagnosis of CHF or COPD.  If the diagnosis field has CHF or COPD in it, then the patient will have a care coordinator assigned.\u001b[0m\n\u001b[0m                ^\u001b[0m\n\u001b[0;31mSyntaxError\u001b[0m\u001b[0;31m:\u001b[0m invalid syntax\n"
     ]
    }
   ],
   "source": [
    "### 14.4 Care Management Criteria\n",
    "\n",
    "Care managers use LACE as part of the criteria for assigning a care coodinator to a patient who has been recently discharged. If the score is above 10, then a care coordinator will be assigned. The other criteria they use is if the patient has been discharged with a diagnosis of CHF or COPD.  If the diagnosis field has CHF or COPD in it, then the patient will have a care coordinator assigned.\n",
    "\n",
    "For this exercise, write another function that takes the same inputs as LACE() plus another diagnosis parameter, and return True or False depending on if the paient needs a care coordinator.\n",
    "\n",
    "**NOTE** Pay attention to the fact that the order of parameters in this function definition are not the same as the order they were in the LACE score.  "
   ]
  },
  {
   "cell_type": "code",
   "execution_count": 170,
   "metadata": {
    "nbgrader": {
     "grade": false,
     "grade_id": "weight-answer",
     "locked": false,
     "schema_version": 1,
     "solution": true
    }
   },
   "outputs": [],
   "source": [
    " \"\"\" (str, int, int, bool, int) -> bool\n",
    "    Care managers use LACE as part of the criteria for assigning a care coodinator to a \n",
    "    patient who has been recently discharged. If the score is above 10, then a care \n",
    "    coordinator will be assigned. The other criteria they use is if the patient has been \n",
    "    discharged with a diagnosis of CHF or COPD. If the diagnosis field has CHF or COPD in \n",
    "    it, then the patient will have a care coordinator assigned.\n",
    "    \"\"\"\n",
    "def assign_care_coordinator(diagnosis_cd, ed_visits, length_of_stay, acute_flag, charlson):\n",
    "    if diagnosis_cd == 'CHF' or diagnosis_cd == 'COPD': \n",
    "        assignment = True\n",
    "        return assignment\n",
    "    if length_of_stay<0:\n",
    "        length_of_stay=1\n",
    "    elif length_of_stay==1:\n",
    "        length_of_stay=1\n",
    "    elif length_of_stay==2:\n",
    "        length_of_stay=2\n",
    "    elif length_of_stay==3:\n",
    "        length_of_stay=3\n",
    "    elif length_of_stay >= 4 and length_of_stay <= 6: \n",
    "        lenght_of_stay = 4\n",
    "    elif length_of_stay >= 7 and length_of_stay <=13: \n",
    "        length_of_stay = 5\n",
    "        \n",
    "    if acute_flag==True: \n",
    "        acute_flag == 3\n",
    "    elif acute_flag==False:\n",
    "        acute_flag=0\n",
    "    \n",
    "    if charlson==0:\n",
    "        charlson=0\n",
    "    elif charlson==1:\n",
    "        charlson=1\n",
    "    elif charlson==2:\n",
    "        charlson=2\n",
    "    elif charlson==3:\n",
    "        charlson=3\n",
    "    elif charlson>=4:\n",
    "        charlson=5\n",
    "        \n",
    "    if ed_visits==0:\n",
    "        ed_visits=0\n",
    "    elif ed_visits==1:\n",
    "        ed_visits=1\n",
    "    elif ed_visits==2:\n",
    "        ed_visits=2\n",
    "    elif ed_visits==3:\n",
    "        ed_visits=3\n",
    "    elif ed_visits>=4:\n",
    "        ed_visits=4\n",
    "        \n",
    "    total_score=length_of_stay+acute_flag+ charlson + ed_visits\n",
    "    if total_score > 10: \n",
    "        assignment=True\n",
    "    else: \n",
    "        assignment=False\n",
    "    return assignment\n",
    "        "
   ]
  },
  {
   "cell_type": "code",
   "execution_count": 190,
   "metadata": {
    "nbgrader": {
     "grade": true,
     "grade_id": "weight-tests",
     "locked": true,
     "points": 5,
     "schema_version": 1,
     "solution": false
    }
   },
   "outputs": [],
   "source": [
    "assert assign_care_coordinator('None', 0, 4, False, 1) == False\n",
    "assert assign_care_coordinator('CHF', 0, 4, False, 1) == True\n",
    "assert assign_care_coordinator('COPD', 0, 4, False, 1) == True\n",
    "assert assign_care_coordinator('None', 7, 4, True, 4) == True\n",
    "assert assign_care_coordinator('CHF', 7, 4, True, 4) == True"
   ]
  },
  {
   "cell_type": "code",
   "execution_count": 189,
   "metadata": {},
   "outputs": [
    {
     "data": {
      "text/plain": [
       "False"
      ]
     },
     "execution_count": 189,
     "metadata": {},
     "output_type": "execute_result"
    }
   ],
   "source": [
    "assign_care_coordinator('None', 0, 4, False, 1)"
   ]
  },
  {
   "cell_type": "markdown",
   "metadata": {},
   "source": [
    "### 14.5 qCSI COVID-19 Severity Index\n",
    "\n",
    "See: https://www.mdcalc.com/quick-covid-19-severity-index-qcsi#evidence\n",
    "\n",
    "Calculate the total risk score as per the point values assigned to respiratory rate, pulse oximetry, and O2 flow rate.  Then calculate and return the Risk Level.\n",
    "\n",
    "In addition to the rules provided at the link above, also add the following checks for valid values:\n",
    "* If `respiratory_rate <= 0` then return _invalid respiratory rate_\n",
    "* If `pulse_ox <= 0` then return _invalid pulse ox_\n",
    "* If `pulse_ox > 100` then return _invalid pulse ox_\n",
    "* If `os_flow <= 0` then return _invalid O2 flow rate_"
   ]
  },
  {
   "cell_type": "code",
   "execution_count": 172,
   "metadata": {},
   "outputs": [],
   "source": [
    "def qcsi(respiratory_rate, pulse_ox, o2_flow):\n",
    "    \n",
    "    \n",
    "    \"\"\"(int, int, int) -> str\n",
    "    * respiratory_rate is an integer value\n",
    "    * pulse_ox is an integer value (e.g. 30 means 30%)\n",
    "    * o2_flow is an integer value\n",
    "    \"\"\"\n",
    "    if respiratory_rate <= 0: \n",
    "        risk = 'invalid respiratory rate'\n",
    "        return risk\n",
    "    if pulse_ox <= 0 or pulse_ox >= 100: \n",
    "        risk = 'invalid pulse ox'\n",
    "        return risk\n",
    "    if o2_flow <= 0:\n",
    "        risk = 'invalid O2 flow rate'\n",
    "        return risk\n",
    "        \n",
    "    if respiratory_rate <= 22:\n",
    "        respiratory_rate = 0\n",
    "    elif respiratory_rate >= 23 and respiratory_rate <= 28:\n",
    "        respiratory_rate = 1\n",
    "    elif respiratory_rate > 28:\n",
    "        respiratory_rate = 2\n",
    "\n",
    "    if pulse_ox > 92:\n",
    "        pulse_ox = 0\n",
    "    elif pulse_ox <= 92 and pulse_ox >= 89:\n",
    "        pulse_ox = 2\n",
    "    elif pulse_ox <= 88:\n",
    "        pulse_ox = 5\n",
    "\n",
    "    if o2_flow <= 2:\n",
    "        o2_flow = 0\n",
    "    elif o2_flow >= 3 and o2_flow <= 4:\n",
    "        o2_flow = 4\n",
    "    elif o2_flow >= 5 and o2_flow <= 6:\n",
    "        o2_flow = 5\n",
    "\n",
    "    score = respiratory_rate + pulse_ox + o2_flow\n",
    "    \n",
    "    if score <= 3:\n",
    "        risk = 'low'\n",
    "    elif score >= 4 and score <= 6:\n",
    "        risk = 'low-intermediate'\n",
    "    elif score >= 7 and score <= 9:\n",
    "        risk = 'high-intermediate'\n",
    "    elif score >= 10 and score <= 12:\n",
    "        risk = 'high'\n",
    "  \n",
    "    return risk"
   ]
  },
  {
   "cell_type": "code",
   "execution_count": 173,
   "metadata": {},
   "outputs": [],
   "source": [
    "assert (qcsi(29, 95, 1) == 'low')\n",
    "assert (qcsi(20, 93, 1) == 'low')\n",
    "assert (qcsi(29, 88, 1) == 'high-intermediate')\n",
    "assert (qcsi(29, 88, 4) == 'high')\n",
    "assert (qcsi(30, 90, 1) == 'low-intermediate')\n",
    "assert (qcsi(28, 92, -1) == 'invalid O2 flow rate')\n",
    "assert (qcsi(22, 0, 4) == 'invalid pulse ox')\n",
    "assert (qcsi(0, 97, 2) == 'invalid respiratory rate')"
   ]
  },
  {
   "cell_type": "code",
   "execution_count": 175,
   "metadata": {},
   "outputs": [
    {
     "data": {
      "text/plain": [
       "'low'"
      ]
     },
     "execution_count": 175,
     "metadata": {},
     "output_type": "execute_result"
    }
   ],
   "source": [
    "qcsi(29, 95, 1)"
   ]
  },
  {
   "cell_type": "markdown",
   "metadata": {},
   "source": [
    "---\n",
    "\n",
    "## Check your work above\n",
    "\n",
    "If you didn't get them all correct, take a few minutes to think through those that aren't correct.\n",
    "\n",
    "\n",
    "## Submitting Your Work\n",
    "\n",
    "In order to submit your work, you'll need to use the `git` command line program to **add** your homework file (this file) to your local repository, **commit** your changes to your local repository, and then **push** those changes up to github.com.  From there, I'll be able to **pull** the changes down and do my grading.  I'll provide some feedback, **commit** and **push** my comments back to you.  Next week, I'll show you how to **pull** down my comments.\n",
    "\n",
    "First run through everything one last time and submit your work:\n",
    "1. Use the `Kernel` -> `Restart Kernel and Run All Cells` menu option to run everything from top to bottom and stop here.\n",
    "2. Then open a new command line by clicking the `+` icon above the file list and chosing `Terminal`\n",
    "3. At the command line in the new Terminal, follow these steps:\n",
    "  1. Change directories to your project folder and the week03 subfolder (`cd <folder name>`)\n",
    "  2. Make sure your project folders are up to date with github.com (`git pull`)\n",
    "  3. Add the homework files for this week (`git add <file name>`)\n",
    "  4. Commit your changes (`git commit -m \"message\"`)\n",
    "  5. Push your changes (`git push`)\n",
    "  \n",
    "**Here's a full examle**\n",
    "```\n",
    "cd hds5210-2022/week03\n",
    "git pull\n",
    "git add week03_assignment_1.ipynb week03_assignment_2.ipynb\n",
    "git commit -a -m \"Submitting homework assignments for week 2\"\n",
    "git push\n",
    "```\n",
    "\n",
    "If anything fails along the way with this submission part of the process, let me know.  I'll help you troubleshoort."
   ]
  },
  {
   "cell_type": "code",
   "execution_count": null,
   "metadata": {},
   "outputs": [],
   "source": []
  }
 ],
 "metadata": {
  "celltoolbar": "Create Assignment",
  "kernelspec": {
   "display_name": "Python 3",
   "language": "python",
   "name": "python3"
  },
  "language_info": {
   "codemirror_mode": {
    "name": "ipython",
    "version": 3
   },
   "file_extension": ".py",
   "mimetype": "text/x-python",
   "name": "python",
   "nbconvert_exporter": "python",
   "pygments_lexer": "ipython3",
   "version": "3.6.7"
  }
 },
 "nbformat": 4,
 "nbformat_minor": 2
}
